{
  "nbformat": 4,
  "nbformat_minor": 0,
  "metadata": {
    "colab": {
      "name": "Stocks_ML.ipynb",
      "provenance": [],
      "collapsed_sections": []
    },
    "kernelspec": {
      "name": "python3",
      "display_name": "Python 3"
    },
    "language_info": {
      "name": "python"
    }
  },
  "cells": [
    {
      "cell_type": "code",
      "metadata": {
        "id": "_UW84Y0KezfW",
        "colab": {
          "base_uri": "https://localhost:8080/"
        },
        "outputId": "6648754c-e978-47c6-a055-78ff455a174e"
      },
      "source": [
        "import pandas as pd\n",
        "import matplotlib.pyplot as plt\n",
        "!pip install --upgrade ta\n",
        "import ta\n",
        "#pip install --upgrade ta-lib\n",
        "#import talib\n",
        "!pip install talib-binary\n",
        "import talib\n",
        "import seaborn as sns\n",
        "import numpy as np"
      ],
      "execution_count": 1,
      "outputs": [
        {
          "output_type": "stream",
          "text": [
            "Collecting ta\n",
            "  Downloading https://files.pythonhosted.org/packages/a9/22/a355ecf2d67da8150332d22ef65c3a1f79109528279bf5d40735b6f2bd72/ta-0.7.0.tar.gz\n",
            "Requirement already satisfied, skipping upgrade: numpy in /usr/local/lib/python3.7/dist-packages (from ta) (1.19.5)\n",
            "Requirement already satisfied, skipping upgrade: pandas in /usr/local/lib/python3.7/dist-packages (from ta) (1.1.5)\n",
            "Requirement already satisfied, skipping upgrade: pytz>=2017.2 in /usr/local/lib/python3.7/dist-packages (from pandas->ta) (2018.9)\n",
            "Requirement already satisfied, skipping upgrade: python-dateutil>=2.7.3 in /usr/local/lib/python3.7/dist-packages (from pandas->ta) (2.8.1)\n",
            "Requirement already satisfied, skipping upgrade: six>=1.5 in /usr/local/lib/python3.7/dist-packages (from python-dateutil>=2.7.3->pandas->ta) (1.15.0)\n",
            "Building wheels for collected packages: ta\n",
            "  Building wheel for ta (setup.py) ... \u001b[?25l\u001b[?25hdone\n",
            "  Created wheel for ta: filename=ta-0.7.0-cp37-none-any.whl size=28716 sha256=1c6eda95f630327a2a2dcc88ca8849a3d21be9135953ed47c773173ec23a051b\n",
            "  Stored in directory: /root/.cache/pip/wheels/dd/88/30/de9553fb54a474eb7480b937cdbb140bdda613d29cf4da7994\n",
            "Successfully built ta\n",
            "Installing collected packages: ta\n",
            "Successfully installed ta-0.7.0\n",
            "Collecting talib-binary\n",
            "\u001b[?25l  Downloading https://files.pythonhosted.org/packages/00/61/a68a9276a3c166df8717927780d994496ee4cb5299903a409f93689a2b4e/talib_binary-0.4.19-cp37-cp37m-manylinux1_x86_64.whl (2.4MB)\n",
            "\u001b[K     |████████████████████████████████| 2.4MB 15.1MB/s \n",
            "\u001b[?25hRequirement already satisfied: numpy in /usr/local/lib/python3.7/dist-packages (from talib-binary) (1.19.5)\n",
            "Installing collected packages: talib-binary\n",
            "Successfully installed talib-binary-0.4.19\n"
          ],
          "name": "stdout"
        }
      ]
    },
    {
      "cell_type": "code",
      "metadata": {
        "colab": {
          "resources": {
            "http://localhost:8080/nbextensions/google.colab/files.js": {
              "data": "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",
              "ok": true,
              "headers": [
                [
                  "content-type",
                  "application/javascript"
                ]
              ],
              "status": 200,
              "status_text": ""
            }
          },
          "base_uri": "https://localhost:8080/",
          "height": 72
        },
        "id": "dYym8vTnbyN7",
        "outputId": "939ada9d-97f7-4b76-d3a1-0b277948f131"
      },
      "source": [
        "#Load the data - AMD\n",
        "from google.colab import files # Use to load data on Google Colab\n",
        "uploaded = files.upload() # Use to load data on Google Colab\n"
      ],
      "execution_count": 2,
      "outputs": [
        {
          "output_type": "display_data",
          "data": {
            "text/html": [
              "\n",
              "     <input type=\"file\" id=\"files-7f022580-5edc-4d28-9323-9c536205d960\" name=\"files[]\" multiple disabled\n",
              "        style=\"border:none\" />\n",
              "     <output id=\"result-7f022580-5edc-4d28-9323-9c536205d960\">\n",
              "      Upload widget is only available when the cell has been executed in the\n",
              "      current browser session. Please rerun this cell to enable.\n",
              "      </output>\n",
              "      <script src=\"/nbextensions/google.colab/files.js\"></script> "
            ],
            "text/plain": [
              "<IPython.core.display.HTML object>"
            ]
          },
          "metadata": {
            "tags": []
          }
        },
        {
          "output_type": "stream",
          "text": [
            "Saving AMD.csv to AMD.csv\n"
          ],
          "name": "stdout"
        }
      ]
    },
    {
      "cell_type": "code",
      "metadata": {
        "colab": {
          "resources": {
            "http://localhost:8080/nbextensions/google.colab/files.js": {
              "data": "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",
              "ok": true,
              "headers": [
                [
                  "content-type",
                  "application/javascript"
                ]
              ],
              "status": 200,
              "status_text": ""
            }
          },
          "base_uri": "https://localhost:8080/",
          "height": 72
        },
        "id": "cKuu66BJSuOE",
        "outputId": "3eac3d9d-7f08-4262-b713-61568438194a"
      },
      "source": [
        "#Load the data - LNG\n",
        "from google.colab import files # Use to load data on Google Colab\n",
        "uploaded = files.upload() # Use to load data on Google Colab"
      ],
      "execution_count": 3,
      "outputs": [
        {
          "output_type": "display_data",
          "data": {
            "text/html": [
              "\n",
              "     <input type=\"file\" id=\"files-b44b7629-d790-491f-aa2b-b8181f65f5ba\" name=\"files[]\" multiple disabled\n",
              "        style=\"border:none\" />\n",
              "     <output id=\"result-b44b7629-d790-491f-aa2b-b8181f65f5ba\">\n",
              "      Upload widget is only available when the cell has been executed in the\n",
              "      current browser session. Please rerun this cell to enable.\n",
              "      </output>\n",
              "      <script src=\"/nbextensions/google.colab/files.js\"></script> "
            ],
            "text/plain": [
              "<IPython.core.display.HTML object>"
            ]
          },
          "metadata": {
            "tags": []
          }
        },
        {
          "output_type": "stream",
          "text": [
            "Saving LNG.csv to LNG.csv\n"
          ],
          "name": "stdout"
        }
      ]
    },
    {
      "cell_type": "code",
      "metadata": {
        "colab": {
          "resources": {
            "http://localhost:8080/nbextensions/google.colab/files.js": {
              "data": "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",
              "ok": true,
              "headers": [
                [
                  "content-type",
                  "application/javascript"
                ]
              ],
              "status": 200,
              "status_text": ""
            }
          },
          "base_uri": "https://localhost:8080/",
          "height": 72
        },
        "id": "z2YMMEj5SxN4",
        "outputId": "41c2c54d-6fad-4717-e86a-b80fab86f0a3"
      },
      "source": [
        "#Load the data - SPY\n",
        "from google.colab import files # Use to load data on Google Colab\n",
        "uploaded = files.upload() # Use to load data on Google Colab"
      ],
      "execution_count": 4,
      "outputs": [
        {
          "output_type": "display_data",
          "data": {
            "text/html": [
              "\n",
              "     <input type=\"file\" id=\"files-af314de6-72a3-409d-bb78-69d1eb00efdd\" name=\"files[]\" multiple disabled\n",
              "        style=\"border:none\" />\n",
              "     <output id=\"result-af314de6-72a3-409d-bb78-69d1eb00efdd\">\n",
              "      Upload widget is only available when the cell has been executed in the\n",
              "      current browser session. Please rerun this cell to enable.\n",
              "      </output>\n",
              "      <script src=\"/nbextensions/google.colab/files.js\"></script> "
            ],
            "text/plain": [
              "<IPython.core.display.HTML object>"
            ]
          },
          "metadata": {
            "tags": []
          }
        },
        {
          "output_type": "stream",
          "text": [
            "Saving SPY.csv to SPY.csv\n"
          ],
          "name": "stdout"
        }
      ]
    },
    {
      "cell_type": "code",
      "metadata": {
        "colab": {
          "base_uri": "https://localhost:8080/",
          "height": 289
        },
        "id": "WximDHI-enM5",
        "outputId": "64fb04ab-5d57-4fe0-9eae-7566388d1cca"
      },
      "source": [
        "dateparse = lambda dates: pd.datetime.strptime(dates, '%Y-%m-%d')\n",
        "amd_df = pd.read_csv('AMD.csv', parse_dates=['Date'], index_col='Date', date_parser=dateparse)\n",
        "amd_df.head()"
      ],
      "execution_count": 70,
      "outputs": [
        {
          "output_type": "stream",
          "text": [
            "/usr/local/lib/python3.7/dist-packages/ipykernel_launcher.py:1: FutureWarning: The pandas.datetime class is deprecated and will be removed from pandas in a future version. Import from datetime module instead.\n",
            "  \"\"\"Entry point for launching an IPython kernel.\n"
          ],
          "name": "stderr"
        },
        {
          "output_type": "execute_result",
          "data": {
            "text/html": [
              "<div>\n",
              "<style scoped>\n",
              "    .dataframe tbody tr th:only-of-type {\n",
              "        vertical-align: middle;\n",
              "    }\n",
              "\n",
              "    .dataframe tbody tr th {\n",
              "        vertical-align: top;\n",
              "    }\n",
              "\n",
              "    .dataframe thead th {\n",
              "        text-align: right;\n",
              "    }\n",
              "</style>\n",
              "<table border=\"1\" class=\"dataframe\">\n",
              "  <thead>\n",
              "    <tr style=\"text-align: right;\">\n",
              "      <th></th>\n",
              "      <th>Open</th>\n",
              "      <th>High</th>\n",
              "      <th>Low</th>\n",
              "      <th>Close</th>\n",
              "      <th>Adj Close</th>\n",
              "      <th>Volume</th>\n",
              "    </tr>\n",
              "    <tr>\n",
              "      <th>Date</th>\n",
              "      <th></th>\n",
              "      <th></th>\n",
              "      <th></th>\n",
              "      <th></th>\n",
              "      <th></th>\n",
              "      <th></th>\n",
              "    </tr>\n",
              "  </thead>\n",
              "  <tbody>\n",
              "    <tr>\n",
              "      <th>2016-07-05</th>\n",
              "      <td>5.03</td>\n",
              "      <td>5.05</td>\n",
              "      <td>4.88</td>\n",
              "      <td>4.96</td>\n",
              "      <td>4.96</td>\n",
              "      <td>16332500</td>\n",
              "    </tr>\n",
              "    <tr>\n",
              "      <th>2016-07-06</th>\n",
              "      <td>4.91</td>\n",
              "      <td>5.11</td>\n",
              "      <td>4.90</td>\n",
              "      <td>5.04</td>\n",
              "      <td>5.04</td>\n",
              "      <td>19392900</td>\n",
              "    </tr>\n",
              "    <tr>\n",
              "      <th>2016-07-07</th>\n",
              "      <td>5.07</td>\n",
              "      <td>5.10</td>\n",
              "      <td>4.94</td>\n",
              "      <td>5.02</td>\n",
              "      <td>5.02</td>\n",
              "      <td>15813800</td>\n",
              "    </tr>\n",
              "    <tr>\n",
              "      <th>2016-07-08</th>\n",
              "      <td>4.84</td>\n",
              "      <td>5.15</td>\n",
              "      <td>4.82</td>\n",
              "      <td>5.10</td>\n",
              "      <td>5.10</td>\n",
              "      <td>28140700</td>\n",
              "    </tr>\n",
              "    <tr>\n",
              "      <th>2016-07-11</th>\n",
              "      <td>5.13</td>\n",
              "      <td>5.19</td>\n",
              "      <td>5.00</td>\n",
              "      <td>5.01</td>\n",
              "      <td>5.01</td>\n",
              "      <td>21027900</td>\n",
              "    </tr>\n",
              "  </tbody>\n",
              "</table>\n",
              "</div>"
            ],
            "text/plain": [
              "            Open  High   Low  Close  Adj Close    Volume\n",
              "Date                                                    \n",
              "2016-07-05  5.03  5.05  4.88   4.96       4.96  16332500\n",
              "2016-07-06  4.91  5.11  4.90   5.04       5.04  19392900\n",
              "2016-07-07  5.07  5.10  4.94   5.02       5.02  15813800\n",
              "2016-07-08  4.84  5.15  4.82   5.10       5.10  28140700\n",
              "2016-07-11  5.13  5.19  5.00   5.01       5.01  21027900"
            ]
          },
          "metadata": {
            "tags": []
          },
          "execution_count": 70
        }
      ]
    },
    {
      "cell_type": "code",
      "metadata": {
        "colab": {
          "base_uri": "https://localhost:8080/",
          "height": 289
        },
        "id": "nVb1zmILe9Ir",
        "outputId": "c1cf50c5-4a7c-4935-b23d-ba205eb08903"
      },
      "source": [
        "dateparse = lambda dates: pd.datetime.strptime(dates, '%Y-%m-%d')\n",
        "lng_df = pd.read_csv('LNG.csv', parse_dates=['Date'], index_col='Date', date_parser=dateparse)\n",
        "lng_df.head()"
      ],
      "execution_count": 71,
      "outputs": [
        {
          "output_type": "stream",
          "text": [
            "/usr/local/lib/python3.7/dist-packages/ipykernel_launcher.py:1: FutureWarning: The pandas.datetime class is deprecated and will be removed from pandas in a future version. Import from datetime module instead.\n",
            "  \"\"\"Entry point for launching an IPython kernel.\n"
          ],
          "name": "stderr"
        },
        {
          "output_type": "execute_result",
          "data": {
            "text/html": [
              "<div>\n",
              "<style scoped>\n",
              "    .dataframe tbody tr th:only-of-type {\n",
              "        vertical-align: middle;\n",
              "    }\n",
              "\n",
              "    .dataframe tbody tr th {\n",
              "        vertical-align: top;\n",
              "    }\n",
              "\n",
              "    .dataframe thead th {\n",
              "        text-align: right;\n",
              "    }\n",
              "</style>\n",
              "<table border=\"1\" class=\"dataframe\">\n",
              "  <thead>\n",
              "    <tr style=\"text-align: right;\">\n",
              "      <th></th>\n",
              "      <th>Open</th>\n",
              "      <th>High</th>\n",
              "      <th>Low</th>\n",
              "      <th>Close</th>\n",
              "      <th>Adj Close</th>\n",
              "      <th>Volume</th>\n",
              "    </tr>\n",
              "    <tr>\n",
              "      <th>Date</th>\n",
              "      <th></th>\n",
              "      <th></th>\n",
              "      <th></th>\n",
              "      <th></th>\n",
              "      <th></th>\n",
              "      <th></th>\n",
              "    </tr>\n",
              "  </thead>\n",
              "  <tbody>\n",
              "    <tr>\n",
              "      <th>2016-07-05</th>\n",
              "      <td>37.759998</td>\n",
              "      <td>38.189999</td>\n",
              "      <td>35.860001</td>\n",
              "      <td>37.139999</td>\n",
              "      <td>37.139999</td>\n",
              "      <td>3322700</td>\n",
              "    </tr>\n",
              "    <tr>\n",
              "      <th>2016-07-06</th>\n",
              "      <td>36.820000</td>\n",
              "      <td>37.500000</td>\n",
              "      <td>36.500000</td>\n",
              "      <td>37.020000</td>\n",
              "      <td>37.020000</td>\n",
              "      <td>4054700</td>\n",
              "    </tr>\n",
              "    <tr>\n",
              "      <th>2016-07-07</th>\n",
              "      <td>37.580002</td>\n",
              "      <td>37.869999</td>\n",
              "      <td>36.669998</td>\n",
              "      <td>37.099998</td>\n",
              "      <td>37.099998</td>\n",
              "      <td>3115400</td>\n",
              "    </tr>\n",
              "    <tr>\n",
              "      <th>2016-07-08</th>\n",
              "      <td>37.480000</td>\n",
              "      <td>38.080002</td>\n",
              "      <td>37.060001</td>\n",
              "      <td>37.660000</td>\n",
              "      <td>37.660000</td>\n",
              "      <td>2057400</td>\n",
              "    </tr>\n",
              "    <tr>\n",
              "      <th>2016-07-11</th>\n",
              "      <td>38.340000</td>\n",
              "      <td>38.389999</td>\n",
              "      <td>37.330002</td>\n",
              "      <td>37.750000</td>\n",
              "      <td>37.750000</td>\n",
              "      <td>1718300</td>\n",
              "    </tr>\n",
              "  </tbody>\n",
              "</table>\n",
              "</div>"
            ],
            "text/plain": [
              "                 Open       High        Low      Close  Adj Close   Volume\n",
              "Date                                                                      \n",
              "2016-07-05  37.759998  38.189999  35.860001  37.139999  37.139999  3322700\n",
              "2016-07-06  36.820000  37.500000  36.500000  37.020000  37.020000  4054700\n",
              "2016-07-07  37.580002  37.869999  36.669998  37.099998  37.099998  3115400\n",
              "2016-07-08  37.480000  38.080002  37.060001  37.660000  37.660000  2057400\n",
              "2016-07-11  38.340000  38.389999  37.330002  37.750000  37.750000  1718300"
            ]
          },
          "metadata": {
            "tags": []
          },
          "execution_count": 71
        }
      ]
    },
    {
      "cell_type": "code",
      "metadata": {
        "colab": {
          "base_uri": "https://localhost:8080/",
          "height": 289
        },
        "id": "FFIC5B7khsTK",
        "outputId": "233c8e62-2c05-43c5-d507-29103ecaa298"
      },
      "source": [
        "dateparse = lambda dates: pd.datetime.strptime(dates, '%Y-%m-%d')\n",
        "spy_df = pd.read_csv('SPY.csv', parse_dates=['Date'], index_col='Date', date_parser=dateparse)\n",
        "spy_df.head()"
      ],
      "execution_count": 72,
      "outputs": [
        {
          "output_type": "stream",
          "text": [
            "/usr/local/lib/python3.7/dist-packages/ipykernel_launcher.py:1: FutureWarning: The pandas.datetime class is deprecated and will be removed from pandas in a future version. Import from datetime module instead.\n",
            "  \"\"\"Entry point for launching an IPython kernel.\n"
          ],
          "name": "stderr"
        },
        {
          "output_type": "execute_result",
          "data": {
            "text/html": [
              "<div>\n",
              "<style scoped>\n",
              "    .dataframe tbody tr th:only-of-type {\n",
              "        vertical-align: middle;\n",
              "    }\n",
              "\n",
              "    .dataframe tbody tr th {\n",
              "        vertical-align: top;\n",
              "    }\n",
              "\n",
              "    .dataframe thead th {\n",
              "        text-align: right;\n",
              "    }\n",
              "</style>\n",
              "<table border=\"1\" class=\"dataframe\">\n",
              "  <thead>\n",
              "    <tr style=\"text-align: right;\">\n",
              "      <th></th>\n",
              "      <th>Open</th>\n",
              "      <th>High</th>\n",
              "      <th>Low</th>\n",
              "      <th>Close</th>\n",
              "      <th>Adj Close</th>\n",
              "      <th>Volume</th>\n",
              "    </tr>\n",
              "    <tr>\n",
              "      <th>Date</th>\n",
              "      <th></th>\n",
              "      <th></th>\n",
              "      <th></th>\n",
              "      <th></th>\n",
              "      <th></th>\n",
              "      <th></th>\n",
              "    </tr>\n",
              "  </thead>\n",
              "  <tbody>\n",
              "    <tr>\n",
              "      <th>2016-07-05</th>\n",
              "      <td>208.949997</td>\n",
              "      <td>209.080002</td>\n",
              "      <td>207.710007</td>\n",
              "      <td>208.410004</td>\n",
              "      <td>190.564194</td>\n",
              "      <td>109803700</td>\n",
              "    </tr>\n",
              "    <tr>\n",
              "      <th>2016-07-06</th>\n",
              "      <td>207.830002</td>\n",
              "      <td>209.800003</td>\n",
              "      <td>207.059998</td>\n",
              "      <td>209.660004</td>\n",
              "      <td>191.707199</td>\n",
              "      <td>96021500</td>\n",
              "    </tr>\n",
              "    <tr>\n",
              "      <th>2016-07-07</th>\n",
              "      <td>209.869995</td>\n",
              "      <td>210.649994</td>\n",
              "      <td>208.630005</td>\n",
              "      <td>209.529999</td>\n",
              "      <td>191.588303</td>\n",
              "      <td>85593800</td>\n",
              "    </tr>\n",
              "    <tr>\n",
              "      <th>2016-07-08</th>\n",
              "      <td>211.050003</td>\n",
              "      <td>212.940002</td>\n",
              "      <td>210.779999</td>\n",
              "      <td>212.649994</td>\n",
              "      <td>194.441162</td>\n",
              "      <td>133971000</td>\n",
              "    </tr>\n",
              "    <tr>\n",
              "      <th>2016-07-11</th>\n",
              "      <td>213.190002</td>\n",
              "      <td>214.070007</td>\n",
              "      <td>212.949997</td>\n",
              "      <td>213.399994</td>\n",
              "      <td>195.126953</td>\n",
              "      <td>73633900</td>\n",
              "    </tr>\n",
              "  </tbody>\n",
              "</table>\n",
              "</div>"
            ],
            "text/plain": [
              "                  Open        High  ...   Adj Close     Volume\n",
              "Date                                ...                       \n",
              "2016-07-05  208.949997  209.080002  ...  190.564194  109803700\n",
              "2016-07-06  207.830002  209.800003  ...  191.707199   96021500\n",
              "2016-07-07  209.869995  210.649994  ...  191.588303   85593800\n",
              "2016-07-08  211.050003  212.940002  ...  194.441162  133971000\n",
              "2016-07-11  213.190002  214.070007  ...  195.126953   73633900\n",
              "\n",
              "[5 rows x 6 columns]"
            ]
          },
          "metadata": {
            "tags": []
          },
          "execution_count": 72
        }
      ]
    },
    {
      "cell_type": "code",
      "metadata": {
        "colab": {
          "base_uri": "https://localhost:8080/",
          "height": 286
        },
        "id": "K89DRcJKh0UD",
        "outputId": "d099a5f5-0271-482f-a185-bb7d24f0815c"
      },
      "source": [
        "# Plotting the Adj_Close columns for SPY and LNG\n",
        "\n",
        "#As you see, for stocks data it is usually right skewed, reflecting positive growth\n",
        "spy_df['Adj Close'].plot(label='SPY', legend=True)\n",
        "lng_df['Adj Close'].plot(label='LNG', legend = True, secondary_y=True)\n",
        "plt.show  # show the plot\n",
        "#plt.clf()  # clear the plot space\n",
        "\n"
      ],
      "execution_count": 73,
      "outputs": [
        {
          "output_type": "execute_result",
          "data": {
            "text/plain": [
              "<function matplotlib.pyplot.show>"
            ]
          },
          "metadata": {
            "tags": []
          },
          "execution_count": 73
        },
        {
          "output_type": "display_data",
          "data": {
            "image/png": "[encoded data removed]",
            "text/plain": [
              "<Figure size 432x288 with 2 Axes>"
            ]
          },
          "metadata": {
            "tags": [],
            "needs_background": "light"
          }
        }
      ]
    },
    {
      "cell_type": "code",
      "metadata": {
        "colab": {
          "base_uri": "https://localhost:8080/",
          "height": 279
        },
        "id": "Sy2OKRcYl4la",
        "outputId": "0382baff-778f-43f7-a520-7b99f6f9fefb"
      },
      "source": [
        "# Histogram of the daily price change percent of Adj_Close for LNG\n",
        "lng_df['Adj Close'].pct_change().plot.hist(bins=50)\n",
        "plt.xlabel('adjusted close 1-day percent change')\n",
        "plt.show()"
      ],
      "execution_count": 74,
      "outputs": [
        {
          "output_type": "display_data",
          "data": {
            "image/png": "[encoded data removed]",
            "text/plain": [
              "<Figure size 432x288 with 1 Axes>"
            ]
          },
          "metadata": {
            "tags": [],
            "needs_background": "light"
          }
        }
      ]
    },
    {
      "cell_type": "code",
      "metadata": {
        "colab": {
          "base_uri": "https://localhost:8080/",
          "height": 279
        },
        "id": "WSZC-0EmmBd6",
        "outputId": "ede45630-4901-4ab3-f8f5-e2b7abbb0459"
      },
      "source": [
        "# Histogram of the daily price change percent of Adj_Close for LNG\n",
        "spy_df['Adj Close'].pct_change().plot.hist(bins=50)\n",
        "plt.xlabel('adjusted close 1-day percent change')\n",
        "plt.show()"
      ],
      "execution_count": 75,
      "outputs": [
        {
          "output_type": "display_data",
          "data": {
            "image/png": "[encoded data removed]",
            "text/plain": [
              "<Figure size 432x288 with 1 Axes>"
            ]
          },
          "metadata": {
            "tags": [],
            "needs_background": "light"
          }
        }
      ]
    },
    {
      "cell_type": "code",
      "metadata": {
        "id": "-Nzoc8VKmay6"
      },
      "source": [
        "#Checking correlation is very important\n",
        "#If we use the same time periods for previous price changes and future price changes, \n",
        "#we can see if the stock price is mean-reverting (bounces around) or trend-following (goes up if it has been going up recently)."
      ],
      "execution_count": 76,
      "outputs": []
    },
    {
      "cell_type": "code",
      "metadata": {
        "colab": {
          "base_uri": "https://localhost:8080/",
          "height": 316
        },
        "id": "XO6z4cQfoHYa",
        "outputId": "8d8ddc3b-699a-45f5-a276-c99a53d4d17a"
      },
      "source": [
        "\n",
        "#Key read: https://towardsdatascience.com/all-the-pandas-shift-you-should-know-for-data-analysis-791c1692b5e\n",
        "\n",
        "#df.shift(1) shifts data 1 day ahead, and shift(-1) brings tomorrow's data on today's date.\n",
        "\n",
        "# Create <5-day % changes> of Adj_Close for the current day, and 5 days in the future\n",
        "lng_df['5d_future_close'] = lng_df['Adj Close'].shift(-5)\n",
        "lng_df['5d_close_future_pct'] = lng_df['5d_future_close'].pct_change(5)     ##so hist pct_change over next 5 days from today\n",
        "lng_df['5d_close_pct'] = lng_df['Adj Close'].pct_change(5)  #so hist pct_change over last 5 days until today\n",
        "\n",
        "# Calculate the correlation matrix between the 5d close pecentage changes (current and future)\n",
        "corr = lng_df[['5d_close_pct', '5d_close_future_pct']].corr()\n",
        "print(corr)\n",
        "\n",
        "# Scatter the current 5-day percent change vs the future 5-day percent change\n",
        "plt.scatter(lng_df['5d_close_pct'], lng_df['5d_close_future_pct'])\n",
        "plt.show()"
      ],
      "execution_count": 77,
      "outputs": [
        {
          "output_type": "stream",
          "text": [
            "                     5d_close_pct  5d_close_future_pct\n",
            "5d_close_pct             1.000000             0.000101\n",
            "5d_close_future_pct      0.000101             1.000000\n"
          ],
          "name": "stdout"
        },
        {
          "output_type": "display_data",
          "data": {
            "image/png": "[encoded data removed]",
            "text/plain": [
              "<Figure size 432x288 with 1 Axes>"
            ]
          },
          "metadata": {
            "tags": [],
            "needs_background": "light"
          }
        }
      ]
    },
    {
      "cell_type": "markdown",
      "metadata": {
        "id": "ilIk5jJCriB6"
      },
      "source": [
        "Imp Question"
      ]
    },
    {
      "cell_type": "code",
      "metadata": {
        "id": "mLPaxmxJrhXH"
      },
      "source": [
        "#How do we account for splits etc, how is it adjusted\n",
        "#In the case of a 2-for-1 split, we divide all of the historical prices for the stock by 2, \n",
        "#then multiply all of the historical volume by 2 so that the bars prior to the split match up smoothly with the bars that appear after the split."
      ],
      "execution_count": 78,
      "outputs": []
    },
    {
      "cell_type": "markdown",
      "metadata": {
        "id": "rwtNyaK_I33N"
      },
      "source": [
        "remember that for TA-Lib functions (such as SMA()), you need to provide Numpy arrays, not pandas objects. You can use the .values attribute of a pandas Series or DataFrame to return it as a Numpy array."
      ]
    },
    {
      "cell_type": "markdown",
      "metadata": {
        "id": "ekwRbNCMvUOI"
      },
      "source": [
        "If RSI close to 0, it is soon to rebound from recent loss\n",
        "If RSI close to 100, it is soon to decline;"
      ]
    },
    {
      "cell_type": "code",
      "metadata": {
        "colab": {
          "base_uri": "https://localhost:8080/"
        },
        "id": "fHdjDSbP5Svm",
        "outputId": "28f60f3c-02ba-40e6-d0ad-d8fcd6c2909e"
      },
      "source": [
        "feature_names = ['5d_close_pct']  # we create a list of the feature names for later\n",
        "\n",
        "# Create moving averages and rsi for timeperiods of 14, 30, 50, and 200\n",
        "for n in [14,30,50,200]:\n",
        "\n",
        "    # Create the moving average indicator and divide by Adj_Close\n",
        "    lng_df['ma' + str(n)] = talib.SMA(lng_df['Adj Close'].values,  #Normalize the moving averages with the adjusted close by dividing by Adj_Close.\n",
        "                              timeperiod=n) / lng_df['Adj Close']   #Its not that imp to divide though, as just talib.SMA will give SMA\n",
        "    # Create the RSI indicator\n",
        "    lng_df['rsi' + str(n)] = talib.RSI(lng_df['Adj Close'].values, timeperiod=n)\n",
        "    \n",
        "    # Add rsi and moving average to the feature name list\n",
        "    feature_names = feature_names + ['ma' + str(n), 'rsi' + str(n)]\n",
        "\n",
        "print(feature_names)"
      ],
      "execution_count": 79,
      "outputs": [
        {
          "output_type": "stream",
          "text": [
            "['5d_close_pct', 'ma14', 'rsi14', 'ma30', 'rsi30', 'ma50', 'rsi50', 'ma200', 'rsi200']\n"
          ],
          "name": "stdout"
        }
      ]
    },
    {
      "cell_type": "code",
      "metadata": {
        "colab": {
          "base_uri": "https://localhost:8080/"
        },
        "id": "QZDXzcykA05b",
        "outputId": "51027729-401e-482a-bf2e-5d2699e919dd"
      },
      "source": [
        "# Drop all na values\n",
        "lng_df = lng_df.dropna()\n",
        "\n",
        "# Create features and targets\n",
        "#As ML models need features and one target\n",
        "# use feature_names for features; keep a new column '5d_close_future_pct' that will serve as our target\n",
        "features = lng_df[feature_names]\n",
        "targets = lng_df['5d_close_future_pct']\n",
        "\n",
        "# Create DataFrame from target column and feature columns, so it has all things we want correlation in between of.\n",
        "feature_and_target_cols = ['5d_close_future_pct'] + feature_names\n",
        "print(feature_and_target_cols)\n",
        "feat_targ_df = lng_df[feature_and_target_cols]\n",
        "\n",
        "\n",
        "# Calculate correlation matrix\n",
        "corr = feat_targ_df.corr()\n",
        "print(corr)"
      ],
      "execution_count": 80,
      "outputs": [
        {
          "output_type": "stream",
          "text": [
            "['5d_close_future_pct', '5d_close_pct', 'ma14', 'rsi14', 'ma30', 'rsi30', 'ma50', 'rsi50', 'ma200', 'rsi200']\n",
            "                     5d_close_future_pct  5d_close_pct  ...     ma200    rsi200\n",
            "5d_close_future_pct             1.000000      0.007495  ...  0.042311 -0.036992\n",
            "5d_close_pct                    0.007495      1.000000  ... -0.256866  0.218849\n",
            "ma14                           -0.046119     -0.844733  ...  0.436263 -0.357215\n",
            "rsi14                           0.027378      0.660203  ... -0.552439  0.530329\n",
            "ma30                           -0.046698     -0.632462  ...  0.638035 -0.498835\n",
            "rsi30                           0.029286      0.517535  ... -0.756616  0.708983\n",
            "ma50                           -0.010203     -0.481712  ...  0.772969 -0.599909\n",
            "rsi50                           0.022611      0.425367  ... -0.866110  0.821745\n",
            "ma200                           0.042311     -0.256866  ...  1.000000 -0.878989\n",
            "rsi200                         -0.036992      0.218849  ... -0.878989  1.000000\n",
            "\n",
            "[10 rows x 10 columns]\n"
          ],
          "name": "stdout"
        }
      ]
    },
    {
      "cell_type": "code",
      "metadata": {
        "colab": {
          "base_uri": "https://localhost:8080/",
          "height": 297
        },
        "id": "LFiHt5eQEmjY",
        "outputId": "ce42c41b-10fd-44eb-d525-86160242369b"
      },
      "source": [
        "# Plot heatmap of correlation matrix\n",
        "sns.heatmap(corr, annot= True, annot_kws = {\"size\": 14})\n",
        "plt.yticks(rotation=0, size = 14); plt.xticks(rotation=90, size = 14)  # fix ticklabel directions and size\n",
        "plt.tight_layout()  # fits plot area to the plot, \"tightly\"\n",
        "plt.show()  # show the plot"
      ],
      "execution_count": 81,
      "outputs": [
        {
          "output_type": "display_data",
          "data": {
            "image/png": "[encoded data removed]",
            "text/plain": [
              "<Figure size 432x288 with 2 Axes>"
            ]
          },
          "metadata": {
            "tags": [],
            "needs_background": "light"
          }
        }
      ]
    },
    {
      "cell_type": "code",
      "metadata": {
        "colab": {
          "base_uri": "https://localhost:8080/",
          "height": 265
        },
        "id": "JbrZEK60GLr2",
        "outputId": "8ccefbfd-8a12-47a2-f3d1-a1521a90b9e2"
      },
      "source": [
        "plt.scatter(lng_df['ma200'], lng_df['5d_close_future_pct'])\n",
        "plt.show()"
      ],
      "execution_count": 82,
      "outputs": [
        {
          "output_type": "display_data",
          "data": {
            "image/png": "[encoded data removed]",
            "text/plain": [
              "<Figure size 432x288 with 1 Axes>"
            ]
          },
          "metadata": {
            "tags": [],
            "needs_background": "light"
          }
        }
      ]
    },
    {
      "cell_type": "code",
      "metadata": {
        "id": "knw-MJpsGeC4"
      },
      "source": [
        "#Using sklearn test split functions, we split our data into train and test randomly.\n",
        "#To take train data as old data, and test data as new one, lets use statsmodels"
      ],
      "execution_count": 83,
      "outputs": []
    },
    {
      "cell_type": "code",
      "metadata": {
        "colab": {
          "base_uri": "https://localhost:8080/"
        },
        "id": "i1fwWMzdGyeL",
        "outputId": "951bd9d5-a1f0-49e1-e60b-f40ac23be3e5"
      },
      "source": [
        "# Import the statsmodels.api library with the alias sm\n",
        "import statsmodels.api as sm\n",
        "\n",
        "# Add a constant to the features\n",
        "linear_features = sm.add_constant(features)          #We need to add a constant for the y intercept. Since it is features that are the x and target is the y, \n",
        "                                                      # we add constant term, i.e 1 to x.\n",
        "\n",
        "# Create a size for the training set that is 85% of the total number of samples\n",
        "train_size = int(0.85 * features.shape[0])         #Get 85% of total rows\n",
        "train_features = linear_features[:train_size]                   #Python indexing follows the pattern [start:stop:step]. \n",
        "train_targets = targets[:train_size]                    #Leave start blank if you want to start from the beginning of the list/array.\n",
        "test_features = linear_features[train_size:]\n",
        "test_targets = targets[train_size:] \n",
        "print(linear_features.shape, train_features.shape, test_features.shape)\n",
        "print(train_targets.shape, test_targets.shape)"
      ],
      "execution_count": 84,
      "outputs": [
        {
          "output_type": "stream",
          "text": [
            "(1053, 10) (895, 10) (158, 10)\n",
            "(895,) (158,)\n"
          ],
          "name": "stdout"
        }
      ]
    },
    {
      "cell_type": "code",
      "metadata": {
        "id": "CCoQ2l-pIMNo"
      },
      "source": [
        "#We take a p-value of less than 0.05 to mean the coefficient is significantly different from 0."
      ],
      "execution_count": 85,
      "outputs": []
    },
    {
      "cell_type": "code",
      "metadata": {
        "colab": {
          "base_uri": "https://localhost:8080/"
        },
        "id": "uGVtzzMxJpyB",
        "outputId": "15684c87-5cf5-4029-bc7f-333b6bd560dd"
      },
      "source": [
        "# Create the linear model and complete the least squares fit\n",
        "model = sm.OLS(train_targets, train_features)  #Model needs targets and features\n",
        "results = model.fit()  # fit the model\n",
        "print(results.summary())\n",
        "\n",
        "# examine pvalues\n",
        "# Features with p <= 0.05 are typically considered significantly different from 0\n",
        "print(results.pvalues)\n",
        "\n",
        "# Make predictions from our model for train and test sets\n",
        "train_predictions = results.predict(train_features)   #Model.predict\n",
        "test_predictions = results.predict(test_features)"
      ],
      "execution_count": 86,
      "outputs": [
        {
          "output_type": "stream",
          "text": [
            "                             OLS Regression Results                            \n",
            "===============================================================================\n",
            "Dep. Variable:     5d_close_future_pct   R-squared:                       0.089\n",
            "Model:                             OLS   Adj. R-squared:                  0.080\n",
            "Method:                  Least Squares   F-statistic:                     9.659\n",
            "Date:                 Tue, 06 Jul 2021   Prob (F-statistic):           3.64e-14\n",
            "Time:                         10:15:43   Log-Likelihood:                 1533.5\n",
            "No. Observations:                  895   AIC:                            -3047.\n",
            "Df Residuals:                      885   BIC:                            -2999.\n",
            "Df Model:                            9                                         \n",
            "Covariance Type:             nonrobust                                         \n",
            "================================================================================\n",
            "                   coef    std err          t      P>|t|      [0.025      0.975]\n",
            "--------------------------------------------------------------------------------\n",
            "const           -0.3459      0.124     -2.796      0.005      -0.589      -0.103\n",
            "5d_close_pct    -0.1470      0.067     -2.193      0.029      -0.279      -0.015\n",
            "ma14            -0.0925      0.117     -0.789      0.430      -0.323       0.137\n",
            "rsi14            0.0008      0.001      0.632      0.528      -0.002       0.003\n",
            "ma30            -0.2672      0.107     -2.500      0.013      -0.477      -0.057\n",
            "rsi30           -0.0145      0.005     -2.755      0.006      -0.025      -0.004\n",
            "ma50            -0.0165      0.080     -0.206      0.837      -0.174       0.141\n",
            "rsi50            0.0209      0.006      3.673      0.000       0.010       0.032\n",
            "ma200            0.2958      0.044      6.781      0.000       0.210       0.381\n",
            "rsi200           0.0012      0.002      0.695      0.487      -0.002       0.005\n",
            "==============================================================================\n",
            "Omnibus:                      141.154   Durbin-Watson:                   0.487\n",
            "Prob(Omnibus):                  0.000   Jarque-Bera (JB):              562.628\n",
            "Skew:                          -0.691   Prob(JB):                    6.71e-123\n",
            "Kurtosis:                       6.630   Cond. No.                     1.17e+04\n",
            "==============================================================================\n",
            "\n",
            "Warnings:\n",
            "[1] Standard Errors assume that the covariance matrix of the errors is correctly specified.\n",
            "[2] The condition number is large, 1.17e+04. This might indicate that there are\n",
            "strong multicollinearity or other numerical problems.\n",
            "const           5.291329e-03\n",
            "5d_close_pct    2.857105e-02\n",
            "ma14            4.300444e-01\n",
            "rsi14           5.275350e-01\n",
            "ma30            1.259776e-02\n",
            "rsi30           5.989826e-03\n",
            "ma50            8.369725e-01\n",
            "rsi50           2.540136e-04\n",
            "ma200           2.177886e-11\n",
            "rsi200          4.869571e-01\n",
            "dtype: float64\n"
          ],
          "name": "stdout"
        }
      ]
    },
    {
      "cell_type": "code",
      "metadata": {
        "colab": {
          "base_uri": "https://localhost:8080/",
          "height": 279
        },
        "id": "RQc6-UArMNX6",
        "outputId": "579f2206-1f2a-4598-ea10-cd3fb05377c8"
      },
      "source": [
        "# Scatter the predictions vs the targets with 20% opacity\n",
        "plt.scatter(train_predictions, train_targets, alpha=0.2, color='b', label='train')  #Plot training data predictions vs targets\n",
        "plt.scatter(test_predictions, test_targets, alpha=0.2, color='r', label='test')     #Plot test data predictions vs targets\n",
        "\n",
        "# Plot the perfect prediction line\n",
        "xmin, xmax = plt.xlim()\n",
        "plt.plot(np.arange(xmin, xmax, 0.01), np.arange(xmin, xmax, 0.01), c='k')\n",
        "\n",
        "# Set the axis labels and show the plot\n",
        "plt.xlabel('predictions')\n",
        "plt.ylabel('actual')\n",
        "plt.legend()  # show the legend\n",
        "plt.show()"
      ],
      "execution_count": 87,
      "outputs": [
        {
          "output_type": "display_data",
          "data": {
            "image/png": "[encoded data removed]",
            "text/plain": [
              "<Figure size 432x288 with 1 Axes>"
            ]
          },
          "metadata": {
            "tags": [],
            "needs_background": "light"
          }
        }
      ]
    },
    {
      "cell_type": "code",
      "metadata": {
        "id": "yxdXJOapJ9R6"
      },
      "source": [
        "# Create 2 new volume features, 1-day % change and 5-day SMA of the % change\n",
        "new_features = ['Adj_Volume_1d_change', 'Adj_Volume_1d_change_SMA']\n",
        "feature_names.extend(new_features)"
      ],
      "execution_count": 88,
      "outputs": []
    },
    {
      "cell_type": "markdown",
      "metadata": {
        "id": "hYkwwDvNKSLA"
      },
      "source": [
        "remember that for TA-Lib functions (such as SMA()), you need to provide Numpy arrays, not pandas objects. You can use the .values attribute of a pandas Series or DataFrame to return it as a Numpy array."
      ]
    },
    {
      "cell_type": "code",
      "metadata": {
        "colab": {
          "base_uri": "https://localhost:8080/",
          "height": 265
        },
        "id": "5En0ozbHKSpx",
        "outputId": "e483c3f9-9f57-4407-c25d-5dce76bca5f0"
      },
      "source": [
        "lng_df['Adj_Volume_1d_change'] = lng_df['Volume'].pct_change()\n",
        "lng_df['Adj_Volume_1d_change_SMA'] = talib.SMA(lng_df['Adj_Volume_1d_change'].values,\n",
        "                                               timeperiod=5)   #as we wanted 5 day moving average\n",
        "\n",
        "# Plot histogram of volume % change data\n",
        "lng_df[new_features].plot(kind='hist', sharex=False, bins=50)\n",
        "plt.show()"
      ],
      "execution_count": 89,
      "outputs": [
        {
          "output_type": "display_data",
          "data": {
            "image/png": "[encoded data removed]",
            "text/plain": [
              "<Figure size 432x288 with 1 Axes>"
            ]
          },
          "metadata": {
            "tags": [],
            "needs_background": "light"
          }
        }
      ]
    },
    {
      "cell_type": "code",
      "metadata": {
        "colab": {
          "base_uri": "https://localhost:8080/"
        },
        "id": "Qif0hljOLjB6",
        "outputId": "7bab3d64-5542-47da-9f42-16661d72b75b"
      },
      "source": [
        "# Use pandas' get_dummies function to get dummies for day of the week\n",
        "days_of_week = pd.get_dummies(lng_df.index.dayofweek,\n",
        "                              prefix='weekday',\n",
        "                              drop_first=True)   #get monday etc as weekday_1 and drop_first as it can be inferred as first day when all others are 0\n",
        "\n",
        "# Set the index as the original dataframe index for merging\n",
        "days_of_week.index = lng_df.index\n",
        "\n",
        "# Join the dataframe with the days of week dataframe\n",
        "lng_df = pd.concat([lng_df, days_of_week], axis=1)\n",
        "\n",
        "# Add days of week to feature names\n",
        "feature_names.extend(['weekday_' + str(i) for i in range(1, 5)])\n",
        "lng_df.dropna(inplace=True)  # drop missing values in-place\n",
        "print(lng_df.head())"
      ],
      "execution_count": 90,
      "outputs": [
        {
          "output_type": "stream",
          "text": [
            "                 Open       High        Low  ...  weekday_2  weekday_3  weekday_4\n",
            "Date                                         ...                                 \n",
            "2017-04-27  45.799999  46.139999  45.150002  ...          0          1          0\n",
            "2017-04-28  45.540001  45.750000  45.160000  ...          0          0          1\n",
            "2017-05-01  45.150002  45.740002  45.000000  ...          0          0          0\n",
            "2017-05-02  45.880001  46.400002  45.639999  ...          0          0          0\n",
            "2017-05-03  45.759998  46.099998  45.270000  ...          1          0          0\n",
            "\n",
            "[5 rows x 23 columns]\n"
          ],
          "name": "stdout"
        }
      ]
    },
    {
      "cell_type": "code",
      "metadata": {
        "colab": {
          "base_uri": "https://localhost:8080/",
          "height": 297
        },
        "id": "ag_oSRfyP3Ew",
        "outputId": "a3178b82-c905-49fb-aaf2-9aedc849189f"
      },
      "source": [
        "# Add the weekday labels to the new_features list\n",
        "new_features.extend(['weekday_' + str(i) for i in range(1, 5)])\n",
        "\n",
        "# Plot the correlations between the new features and the targets\n",
        "sns.heatmap(lng_df[new_features + ['5d_close_future_pct']].corr(), annot=True)\n",
        "plt.yticks(rotation=0)  # ensure y-axis ticklabels are horizontal\n",
        "plt.xticks(rotation=90)  # ensure x-axis ticklabels are vertical\n",
        "plt.tight_layout()\n",
        "plt.show()"
      ],
      "execution_count": 91,
      "outputs": [
        {
          "output_type": "display_data",
          "data": {
            "image/png": "[encoded data removed]",
            "text/plain": [
              "<Figure size 432x288 with 2 Axes>"
            ]
          },
          "metadata": {
            "tags": [],
            "needs_background": "light"
          }
        }
      ]
    },
    {
      "cell_type": "code",
      "metadata": {
        "colab": {
          "base_uri": "https://localhost:8080/"
        },
        "id": "4SvGaM9nU7KD",
        "outputId": "31b7ac54-c13a-4fb4-a997-8dbef566aafd"
      },
      "source": [
        "from sklearn.tree import DecisionTreeRegressor\n",
        "\n",
        "# Create a decision tree regression model with default arguments\n",
        "decision_tree = DecisionTreeRegressor()\n",
        "\n",
        "# Fit the model to the training features and targets\n",
        "decision_tree.fit(train_features, train_targets)\n",
        "\n",
        "# Check the score on train and test\n",
        "print(decision_tree.score(train_features, train_targets))\n",
        "print(decision_tree.score(test_features, test_targets))"
      ],
      "execution_count": 92,
      "outputs": [
        {
          "output_type": "stream",
          "text": [
            "0.9999984627075906\n",
            "-1.2891391841885018\n"
          ],
          "name": "stdout"
        }
      ]
    },
    {
      "cell_type": "code",
      "metadata": {
        "colab": {
          "base_uri": "https://localhost:8080/"
        },
        "id": "kX4thBlkefSX",
        "outputId": "f38764d9-9092-434f-e22b-87788b0ffa15"
      },
      "source": [
        "# Loop through a few different max depths and check the performance\n",
        "for d in [3,5,10]:\n",
        "    # Create the tree and fit it\n",
        "    decision_tree = DecisionTreeRegressor(max_depth = d)\n",
        "    decision_tree.fit(train_features, train_targets)\n",
        "\n",
        "    # Print out the scores on train and test\n",
        "    print('max_depth=', str(d))\n",
        "    print(decision_tree.score(train_features, train_targets))\n",
        "    print(decision_tree.score(test_features, test_targets), '\\n')"
      ],
      "execution_count": 93,
      "outputs": [
        {
          "output_type": "stream",
          "text": [
            "max_depth= 3\n",
            "0.19919907674297976\n",
            "-0.17213441431869603 \n",
            "\n",
            "max_depth= 5\n",
            "0.3810897001549668\n",
            "-0.2649368039898874 \n",
            "\n",
            "max_depth= 10\n",
            "0.553910719490195\n",
            "-0.6423407573646409 \n",
            "\n"
          ],
          "name": "stdout"
        }
      ]
    },
    {
      "cell_type": "code",
      "metadata": {
        "colab": {
          "base_uri": "https://localhost:8080/",
          "height": 265
        },
        "id": "VRDlVlf3e_KM",
        "outputId": "cd3a9778-fbea-41ca-f30f-324be8275b4e"
      },
      "source": [
        "# Use the best max_depth of 3 from last exercise to fit a decision tree, as for test data max_depth 3 has the least negative value\n",
        "decision_tree = DecisionTreeRegressor(max_depth = 3)\n",
        "decision_tree.fit(train_features, train_targets)\n",
        "\n",
        "# Predict values for train and test\n",
        "train_predictions = decision_tree.predict(train_features)\n",
        "test_predictions = decision_tree.predict(test_features)\n",
        "\n",
        "# Scatter the predictions vs actual values\n",
        "plt.scatter(train_predictions, train_targets, label='train')\n",
        "plt.scatter(test_predictions, test_targets, label='test')\n",
        "plt.show()"
      ],
      "execution_count": 94,
      "outputs": [
        {
          "output_type": "display_data",
          "data": {
            "image/png": "[encoded data removed]",
            "text/plain": [
              "<Figure size 432x288 with 1 Axes>"
            ]
          },
          "metadata": {
            "tags": [],
            "needs_background": "light"
          }
        }
      ]
    },
    {
      "cell_type": "code",
      "metadata": {
        "colab": {
          "base_uri": "https://localhost:8080/"
        },
        "id": "3G-m5k3K1guh",
        "outputId": "4dd0cdea-fcc9-4963-e88d-b16278ccc434"
      },
      "source": [
        "from sklearn.ensemble import RandomForestRegressor\n",
        "\n",
        "# Create the random forest model and fit to the training data\n",
        "#Estimators is how many trees do you want, depth is the level of depth of trees you want\n",
        "rfr = RandomForestRegressor(n_estimators=200)\n",
        "rfr.fit(train_features, train_targets)\n",
        "\n",
        "# Look at the R^2 scores on train and test\n",
        "print(rfr.score(train_features, train_targets))\n",
        "print(rfr.score(test_features, test_targets))"
      ],
      "execution_count": 95,
      "outputs": [
        {
          "output_type": "stream",
          "text": [
            "0.9179954740905591\n",
            "-0.44479465350083136\n"
          ],
          "name": "stdout"
        }
      ]
    },
    {
      "cell_type": "markdown",
      "metadata": {
        "id": "9yEv2_Io23SD"
      },
      "source": [
        "#Max_features - number of features we sample at each split\n",
        "#Estimators is how many trees do you want, depth is the level of depth of trees you want\n",
        "Random state ensures that the splits that you generate are reproducible. Scikit-learn uses random permutations to generate the splits. The random state that you provide is used as a seed to the random number generator. This ensures that the random numbers are generated in the same order."
      ]
    },
    {
      "cell_type": "code",
      "metadata": {
        "colab": {
          "base_uri": "https://localhost:8080/"
        },
        "id": "yh2FwROF3tOS",
        "outputId": "fbb2b505-11fe-4ff7-9535-49f78476bef1"
      },
      "source": [
        "from sklearn.model_selection import ParameterGrid\n",
        "\n",
        "# Create a dictionary of hyperparameters to search\n",
        "grid = {'n_estimators': [200], 'max_depth': [3], 'max_features': [4, 8], 'random_state': [42]}\n",
        "test_scores = []\n",
        "\n",
        "#grid is basically a dict of multiple parameter values\n",
        "\n",
        "# Loop through the parameter grid, set the hyperparameters, and save the scores\n",
        "for g in ParameterGrid(grid):\n",
        "    rfr.set_params(**g)  # ** is \"unpacking\" the dictionary\n",
        "    rfr.fit(train_features, train_targets)\n",
        "    test_scores.append(rfr.score(test_features, test_targets))\n",
        "\n",
        "# Find best hyperparameters from the test score and print\n",
        "\n",
        "#numpy function argmax chooses best/max test_scores and returns its index and stores it in best_idx\n",
        "\n",
        "best_idx = np.argmax(test_scores)\n",
        "print(test_scores[best_idx], ParameterGrid(grid)[best_idx])"
      ],
      "execution_count": 96,
      "outputs": [
        {
          "output_type": "stream",
          "text": [
            "-0.18476848071633833 {'random_state': 42, 'n_estimators': 200, 'max_features': 8, 'max_depth': 3}\n"
          ],
          "name": "stdout"
        }
      ]
    },
    {
      "cell_type": "code",
      "metadata": {
        "colab": {
          "base_uri": "https://localhost:8080/",
          "height": 265
        },
        "id": "RAZns3JB5I8O",
        "outputId": "b38d0eaf-6546-4fde-cc9f-0c3ba0355c56"
      },
      "source": [
        "# Use the best hyperparameters from before to fit a random forest model, so we should use 8, but I use 4 for now.\n",
        "rfr = RandomForestRegressor(n_estimators=200, max_depth=3, max_features=4, random_state=42)\n",
        "rfr.fit(train_features, train_targets)\n",
        "\n",
        "# Make predictions with our model\n",
        "train_predictions = rfr.predict(train_features) #For fitting we pass features and targets, for predict we pass only features and check R^2 and plot\n",
        "test_predictions = rfr.predict(test_features)\n",
        "\n",
        "# Create a scatter plot with train and test actual vs predictions\n",
        "plt.scatter(train_targets, train_predictions, label='train')\n",
        "plt.scatter(test_targets, test_predictions, label='test')\n",
        "plt.legend()\n",
        "plt.show()"
      ],
      "execution_count": 97,
      "outputs": [
        {
          "output_type": "display_data",
          "data": {
            "image/png": "[encoded data removed]",
            "text/plain": [
              "<Figure size 432x288 with 1 Axes>"
            ]
          },
          "metadata": {
            "tags": [],
            "needs_background": "light"
          }
        }
      ]
    },
    {
      "cell_type": "markdown",
      "metadata": {
        "id": "lrU41VjU9dgs"
      },
      "source": [
        "One useful aspect of tree-based methods is the ability to extract feature importances. This is a quantitative way to measure how much each feature contributes to our predictions. It can help us focus on our best features, possibly enhancing or tuning them, and can also help us get rid of useless features that may be cluttering up our model."
      ]
    },
    {
      "cell_type": "code",
      "metadata": {
        "colab": {
          "base_uri": "https://localhost:8080/"
        },
        "id": "u9n7_5Na-8oD",
        "outputId": "6fa91585-2454-4403-b3f2-2123dbed1305"
      },
      "source": [
        "# Get feature importances from our random forest model\n",
        "importances = rfr.feature_importances_\n",
        "\n",
        "# Get the index of importances from greatest importance to least\n",
        "sorted_index = np.argsort(importances)[::-1]                      \n",
        "#so np.argsort gives us sorted list from lowest to highest. Using [start:stop:step = -1], we reversed the order\n",
        "\n",
        "x = range(len(importances))\n",
        "#So x takes how many features to be plotted on barplot.\n",
        "\n",
        "print(importances)\n",
        "print(sorted_index)\n",
        "print(x)"
      ],
      "execution_count": 98,
      "outputs": [
        {
          "output_type": "stream",
          "text": [
            "[0.         0.06527071 0.08701934 0.08120607 0.06813794 0.11359109\n",
            " 0.09874371 0.12271718 0.20884703 0.15446694]\n",
            "[8 9 7 5 6 2 3 4 1 0]\n",
            "range(0, 10)\n"
          ],
          "name": "stdout"
        }
      ]
    },
    {
      "cell_type": "code",
      "metadata": {
        "colab": {
          "base_uri": "https://localhost:8080/",
          "height": 373
        },
        "id": "npVQt_4R_spt",
        "outputId": "0b98620d-d07c-4b0d-81b7-ba6c9fcd5cf8"
      },
      "source": [
        "# Create tick labels \n",
        "labels = np.array(feature_names)[sorted_index]\n",
        "plt.bar(x, importances[sorted_index], tick_label=labels)\n",
        "\n",
        "# Rotate tick labels to vertical\n",
        "plt.xticks(rotation=90)\n",
        "plt.show()\n",
        "\n",
        "\n",
        "#As you see we should drop most of the useless features "
      ],
      "execution_count": 99,
      "outputs": [
        {
          "output_type": "display_data",
          "data": {
            "image/png": "[encoded data removed]",
            "text/plain": [
              "<Figure size 432x288 with 1 Axes>"
            ]
          },
          "metadata": {
            "tags": [],
            "needs_background": "light"
          }
        }
      ]
    },
    {
      "cell_type": "markdown",
      "metadata": {
        "id": "tiBwvvqOAkod"
      },
      "source": [
        "#Now in essence the flow is this way\n",
        "Identify best parameters, for a particular train-test split\n",
        "Fit model on train data\n",
        "See R^2 score, plot and predict for test and train\n",
        "See importance of features, drop useless ones, \n",
        "start again."
      ]
    },
    {
      "cell_type": "code",
      "metadata": {
        "id": "-Q3OFTJLAmaA"
      },
      "source": [
        "#For now let us try gradient boosting while skipping the step of choosing the best parameters and features, Okie."
      ],
      "execution_count": 100,
      "outputs": []
    },
    {
      "cell_type": "code",
      "metadata": {
        "colab": {
          "base_uri": "https://localhost:8080/"
        },
        "id": "e1Drn0AVBeTo",
        "outputId": "6b3b0242-cb00-442c-d0b7-f8a84c8f0df5"
      },
      "source": [
        "from sklearn.ensemble import GradientBoostingRegressor\n",
        "\n",
        "# Create GB model -- hyperparameters have already been searched for you\n",
        "gbr = GradientBoostingRegressor(max_features=4,\n",
        "                                learning_rate=0.01,\n",
        "                                n_estimators=200,\n",
        "                                subsample=0.6,\n",
        "                                random_state=42)\n",
        "gbr.fit(train_features, train_targets)\n",
        "\n",
        "print(gbr.score(train_features, train_targets))\n",
        "print(gbr.score(test_features, test_targets))"
      ],
      "execution_count": 101,
      "outputs": [
        {
          "output_type": "stream",
          "text": [
            "0.34482641430866456\n",
            "-0.21380890191591884\n"
          ],
          "name": "stdout"
        }
      ]
    },
    {
      "cell_type": "code",
      "metadata": {
        "colab": {
          "base_uri": "https://localhost:8080/"
        },
        "id": "AZ4gh7J4B9w1",
        "outputId": "c118a66c-6158-4f61-d236-af598fbc6c6e"
      },
      "source": [
        "# Extract feature importances from the fitted gradient boosting model\n",
        "feature_importances = gbr.feature_importances_\n",
        "\n",
        "# Get the indices of the largest to smallest feature importances\n",
        "sorted_index = np.argsort(feature_importances)[::-1]\n",
        "x = range(len(importances))\n",
        "\n",
        "\n",
        "#x = range(features.shape[1])\n",
        "\n",
        "#So how many features to be plotted is in x.\n",
        "#Either use length of importances, or features.shape(1,)\n",
        "\n",
        "\n",
        "print(importances)\n",
        "print(sorted_index)\n",
        "print(x)\n"
      ],
      "execution_count": 102,
      "outputs": [
        {
          "output_type": "stream",
          "text": [
            "[0.         0.06527071 0.08701934 0.08120607 0.06813794 0.11359109\n",
            " 0.09874371 0.12271718 0.20884703 0.15446694]\n",
            "[8 7 3 9 5 6 4 2 1 0]\n",
            "range(0, 10)\n"
          ],
          "name": "stdout"
        }
      ]
    },
    {
      "cell_type": "code",
      "metadata": {
        "colab": {
          "base_uri": "https://localhost:8080/"
        },
        "id": "cUXZsTuwC2LJ",
        "outputId": "7fbe9aa7-eed0-4555-ccab-2f0cf481e0dc"
      },
      "source": [
        "features.shape[0]\n",
        "features.shape[1]"
      ],
      "execution_count": 103,
      "outputs": [
        {
          "output_type": "execute_result",
          "data": {
            "text/plain": [
              "9"
            ]
          },
          "metadata": {
            "tags": []
          },
          "execution_count": 103
        }
      ]
    },
    {
      "cell_type": "code",
      "metadata": {
        "colab": {
          "base_uri": "https://localhost:8080/",
          "height": 373
        },
        "id": "O9gYGcBmCZIq",
        "outputId": "6c001db3-5e80-4d2c-f23c-8bbaa91dd4ef"
      },
      "source": [
        "# Create tick labels \n",
        "labels = np.array(feature_names)[sorted_index]\n",
        "\n",
        "plt.bar(x, feature_importances[sorted_index], tick_label=labels)\n",
        "\n",
        "# Set the tick lables to be the feature names, according to the sorted feature_idx\n",
        "plt.xticks(rotation=90)\n",
        "plt.show()"
      ],
      "execution_count": 104,
      "outputs": [
        {
          "output_type": "display_data",
          "data": {
            "image/png": "[encoded data removed]",
            "text/plain": [
              "<Figure size 432x288 with 1 Axes>"
            ]
          },
          "metadata": {
            "tags": [],
            "needs_background": "light"
          }
        }
      ]
    },
    {
      "cell_type": "markdown",
      "metadata": {
        "id": "zYohPflhjLeL"
      },
      "source": [
        "Some models, like K-nearest neighbors (KNN) & neural networks, work better with scaled data -- so we'll standardize our data."
      ]
    },
    {
      "cell_type": "code",
      "metadata": {
        "id": "P_6kP5lWj6EE",
        "colab": {
          "base_uri": "https://localhost:8080/",
          "height": 265
        },
        "outputId": "5f2235d0-8445-4daa-eeea-d2549bf2e2cd"
      },
      "source": [
        "from sklearn.preprocessing import scale\n",
        "\n",
        "# Remove unimportant features (weekdays)\n",
        "train_features = train_features.iloc[:, :-4]\n",
        "test_features = test_features.iloc[:, :-4]\n",
        "\n",
        "# Standardize the train and test features\n",
        "scaled_train_features = scale(train_features)\n",
        "scaled_test_features = scale(test_features)\n",
        "\n",
        "# Plot histograms of the 14-day SMA RSI before and after scaling\n",
        "f, ax = plt.subplots(nrows=2, ncols=1)\n",
        "train_features.iloc[:, 2].hist(ax=ax[0])\n",
        "ax[1].hist(scaled_train_features[:, 2])\n",
        "plt.show()"
      ],
      "execution_count": 105,
      "outputs": [
        {
          "output_type": "display_data",
          "data": {
            "image/png": "[encoded data removed]",
            "text/plain": [
              "<Figure size 432x288 with 2 Axes>"
            ]
          },
          "metadata": {
            "tags": [],
            "needs_background": "light"
          }
        }
      ]
    },
    {
      "cell_type": "code",
      "metadata": {
        "id": "i73cBOxhk3Ga",
        "colab": {
          "base_uri": "https://localhost:8080/"
        },
        "outputId": "a91cadb7-b765-4d0b-f1dc-9f37c55943f2"
      },
      "source": [
        "from sklearn.neighbors import KNeighborsRegressor\n",
        "\n",
        "for n in range(2, 13):\n",
        "    # Create and fit the KNN model\n",
        "    knn = KNeighborsRegressor(n_neighbors=n)\n",
        "    \n",
        "    # Fit the model to the training data\n",
        "    knn.fit(scaled_train_features, train_targets)\n",
        "    \n",
        "    # Print number of neighbors and the score to find the best value of n\n",
        "    print(\"n_neighbors =\", n)\n",
        "    print('train, test scores')\n",
        "    print(knn.score(scaled_train_features, train_targets))\n",
        "    print(knn.score(scaled_test_features, test_targets))\n",
        "    print()  # prints a blank line"
      ],
      "execution_count": 106,
      "outputs": [
        {
          "output_type": "stream",
          "text": [
            "n_neighbors = 2\n",
            "train, test scores\n",
            "0.6585949171459384\n",
            "-0.6972863147171491\n",
            "\n",
            "n_neighbors = 3\n",
            "train, test scores\n",
            "0.5275756974575753\n",
            "-0.5352257722551639\n",
            "\n",
            "n_neighbors = 4\n",
            "train, test scores\n",
            "0.45253066327755354\n",
            "-0.35811810699176627\n",
            "\n",
            "n_neighbors = 5\n",
            "train, test scores\n",
            "0.40838058118247145\n",
            "-0.30554783630708604\n",
            "\n",
            "n_neighbors = 6\n",
            "train, test scores\n",
            "0.36751935491536936\n",
            "-0.27834395664030853\n",
            "\n",
            "n_neighbors = 7\n",
            "train, test scores\n",
            "0.33439292566974466\n",
            "-0.2909930503230145\n",
            "\n",
            "n_neighbors = 8\n",
            "train, test scores\n",
            "0.3062226861328482\n",
            "-0.29489203017128673\n",
            "\n",
            "n_neighbors = 9\n",
            "train, test scores\n",
            "0.29148003498964226\n",
            "-0.27151109749423186\n",
            "\n",
            "n_neighbors = 10\n",
            "train, test scores\n",
            "0.27074104119757303\n",
            "-0.27582674831638965\n",
            "\n",
            "n_neighbors = 11\n",
            "train, test scores\n",
            "0.25853080153061236\n",
            "-0.2635245749238533\n",
            "\n",
            "n_neighbors = 12\n",
            "train, test scores\n",
            "0.2533989366086612\n",
            "-0.28633330625011766\n",
            "\n"
          ],
          "name": "stdout"
        }
      ]
    },
    {
      "cell_type": "code",
      "metadata": {
        "id": "5qDK7PNXldiF",
        "colab": {
          "base_uri": "https://localhost:8080/",
          "height": 265
        },
        "outputId": "da99faec-4f9a-41ff-d17b-cb85fdd709d3"
      },
      "source": [
        "# Create the model with the best-performing n_neighbors of 5\n",
        "knn = KNeighborsRegressor(n_neighbors=5)\n",
        "\n",
        "# Fit the model\n",
        "knn.fit(scaled_train_features, train_targets)\n",
        "\n",
        "# Get predictions for train and test sets\n",
        "train_predictions = knn.predict(scaled_train_features)\n",
        "test_predictions = knn.predict(scaled_test_features)\n",
        "\n",
        "# Plot the actual vs predicted values\n",
        "plt.scatter(train_predictions, train_targets, label='train')\n",
        "plt.scatter(test_predictions, test_targets, label='test')\n",
        "plt.legend()\n",
        "plt.show()"
      ],
      "execution_count": 107,
      "outputs": [
        {
          "output_type": "display_data",
          "data": {
            "image/png": "[encoded data removed]",
            "text/plain": [
              "<Figure size 432x288 with 1 Axes>"
            ]
          },
          "metadata": {
            "tags": [],
            "needs_background": "light"
          }
        }
      ]
    },
    {
      "cell_type": "markdown",
      "metadata": {
        "id": "qpJJP-oBRhh6"
      },
      "source": [
        "##NEURAL Networks"
      ]
    },
    {
      "cell_type": "code",
      "metadata": {
        "id": "qPp1-D0YROvY"
      },
      "source": [
        "from keras.models import Sequential     #import keras.models sequential whereas dense is from keras.layers\n",
        "from keras.layers import Dense"
      ],
      "execution_count": 108,
      "outputs": []
    },
    {
      "cell_type": "markdown",
      "metadata": {
        "id": "CD2K8OvKRlAr"
      },
      "source": [
        "Let us make a cery simple net for now. 3 layers, specify input in first dense layer and create 3 layers. The last one which gives output is activation = linear."
      ]
    },
    {
      "cell_type": "code",
      "metadata": {
        "colab": {
          "base_uri": "https://localhost:8080/"
        },
        "id": "JGh7rXcFSN9q",
        "outputId": "283cd684-5513-4269-a4cf-518822fd7eed"
      },
      "source": [
        "# Create the model\n",
        "model_1 = Sequential()\n",
        "model_1.add(Dense(100, input_dim=scaled_train_features.shape[1], activation='relu'))  #We give scaled features(i.e. standardised data as input)\n",
        "model_1.add(Dense(20, activation='relu'))\n",
        "model_1.add(Dense(1, activation='linear'))\n",
        "\n",
        "# Fit the model\n",
        "model_1.compile(optimizer='adam', loss='mse')\n",
        "history = model_1.fit(scaled_train_features, train_targets, epochs=25)"
      ],
      "execution_count": 109,
      "outputs": [
        {
          "output_type": "stream",
          "text": [
            "Epoch 1/25\n",
            "28/28 [==============================] - 1s 2ms/step - loss: 0.0064\n",
            "Epoch 2/25\n",
            "28/28 [==============================] - 0s 1ms/step - loss: 0.0047\n",
            "Epoch 3/25\n",
            "28/28 [==============================] - 0s 1ms/step - loss: 0.0027\n",
            "Epoch 4/25\n",
            "28/28 [==============================] - 0s 1ms/step - loss: 0.0027\n",
            "Epoch 5/25\n",
            "28/28 [==============================] - 0s 2ms/step - loss: 0.0020\n",
            "Epoch 6/25\n",
            "28/28 [==============================] - 0s 1ms/step - loss: 0.0018\n",
            "Epoch 7/25\n",
            "28/28 [==============================] - 0s 2ms/step - loss: 0.0018\n",
            "Epoch 8/25\n",
            "28/28 [==============================] - 0s 1ms/step - loss: 0.0019\n",
            "Epoch 9/25\n",
            "28/28 [==============================] - 0s 1ms/step - loss: 0.0014\n",
            "Epoch 10/25\n",
            "28/28 [==============================] - 0s 2ms/step - loss: 0.0015\n",
            "Epoch 11/25\n",
            "28/28 [==============================] - 0s 2ms/step - loss: 0.0014\n",
            "Epoch 12/25\n",
            "28/28 [==============================] - 0s 1ms/step - loss: 0.0014\n",
            "Epoch 13/25\n",
            "28/28 [==============================] - 0s 1ms/step - loss: 0.0015\n",
            "Epoch 14/25\n",
            "28/28 [==============================] - 0s 2ms/step - loss: 0.0017\n",
            "Epoch 15/25\n",
            "28/28 [==============================] - 0s 2ms/step - loss: 0.0016\n",
            "Epoch 16/25\n",
            "28/28 [==============================] - 0s 2ms/step - loss: 0.0018\n",
            "Epoch 17/25\n",
            "28/28 [==============================] - 0s 2ms/step - loss: 0.0016\n",
            "Epoch 18/25\n",
            "28/28 [==============================] - 0s 1ms/step - loss: 0.0015\n",
            "Epoch 19/25\n",
            "28/28 [==============================] - 0s 2ms/step - loss: 0.0015\n",
            "Epoch 20/25\n",
            "28/28 [==============================] - 0s 2ms/step - loss: 0.0017\n",
            "Epoch 21/25\n",
            "28/28 [==============================] - 0s 2ms/step - loss: 0.0013\n",
            "Epoch 22/25\n",
            "28/28 [==============================] - 0s 1ms/step - loss: 0.0015\n",
            "Epoch 23/25\n",
            "28/28 [==============================] - 0s 1ms/step - loss: 0.0013\n",
            "Epoch 24/25\n",
            "28/28 [==============================] - 0s 1ms/step - loss: 0.0015\n",
            "Epoch 25/25\n",
            "28/28 [==============================] - 0s 2ms/step - loss: 0.0022\n"
          ],
          "name": "stdout"
        }
      ]
    },
    {
      "cell_type": "markdown",
      "metadata": {
        "id": "CO6Vmx0qSdIF"
      },
      "source": [
        "Once we've fit a model, we usually check the training loss curve to make sure it's flattened out. The history returned from model.fit() is a dictionary that has an entry, 'loss', which is the training loss. We want to ensure this has more or less flattened out at the end of our training. \n",
        "An EPOCH is how many time code goes over the whole data."
      ]
    },
    {
      "cell_type": "code",
      "metadata": {
        "colab": {
          "base_uri": "https://localhost:8080/",
          "height": 281
        },
        "id": "-wm7VFt0Sd84",
        "outputId": "1e4a0218-0543-4421-ae6b-4de965c46270"
      },
      "source": [
        "# Plot the losses from the fit\n",
        "plt.plot(history.history['loss'])\n",
        "\n",
        "# Use the last loss as the title\n",
        "plt.title('loss:' + str(round(history.history['loss'][-1], 6)))\n",
        "plt.show()\n",
        "\n",
        "\n",
        "#For title we used the last loss value hence [-1]"
      ],
      "execution_count": 110,
      "outputs": [
        {
          "output_type": "display_data",
          "data": {
            "image/png": "[encoded data removed]",
            "text/plain": [
              "<Figure size 432x288 with 1 Axes>"
            ]
          },
          "metadata": {
            "tags": [],
            "needs_background": "light"
          }
        }
      ]
    },
    {
      "cell_type": "code",
      "metadata": {
        "colab": {
          "base_uri": "https://localhost:8080/",
          "height": 299
        },
        "id": "f-j9sr29V7QV",
        "outputId": "075c078e-7604-491a-88b1-e0b6ae92a8ac"
      },
      "source": [
        "from sklearn.metrics import r2_score\n",
        "\n",
        "# Calculate R^2 score\n",
        "train_preds = model_1.predict(scaled_train_features)\n",
        "test_preds = model_1.predict(scaled_test_features)\n",
        "print(r2_score(train_targets, train_preds))\n",
        "print(r2_score(test_targets, test_preds))\n",
        "\n",
        "# Plot predictions vs actual\n",
        "plt.scatter(train_preds, train_targets, label='train')\n",
        "plt.scatter(test_preds, test_targets, label='test')\n",
        "plt.legend()\n",
        "plt.show()"
      ],
      "execution_count": 111,
      "outputs": [
        {
          "output_type": "stream",
          "text": [
            "0.07673795845606068\n",
            "-1.1655066732518788\n"
          ],
          "name": "stdout"
        },
        {
          "output_type": "display_data",
          "data": {
            "image/png": "[encoded data removed]",
            "text/plain": [
              "<Figure size 432x288 with 1 Axes>"
            ]
          },
          "metadata": {
            "tags": [],
            "needs_background": "light"
          }
        }
      ]
    },
    {
      "cell_type": "markdown",
      "metadata": {
        "id": "BAf9zp3DarMu"
      },
      "source": [
        "#Why Custom loss function is important\n",
        "If wrong direction of price change is predicted, we can add a penalty to guide neural net to correct its direction.\n",
        "Penalty is multiplied by error to increase loss function, and model as it tries to reduce the loss function will correct its direction.\n",
        "\n",
        "\n",
        "If y_true*y*pred = +ve it was correct direction (++, --)\n",
        "If y_true*y_pred = -ve , wrong prediction as (+-, -+)"
      ]
    },
    {
      "cell_type": "code",
      "metadata": {
        "colab": {
          "base_uri": "https://localhost:8080/"
        },
        "id": "g-Px84ZAaq-z",
        "outputId": "514eed06-2da0-4ee8-b367-a8dac79f1373"
      },
      "source": [
        "import keras.losses\n",
        "import tensorflow as tf\n",
        "\n",
        "# Create loss function\n",
        "def sign_penalty(y_true, y_pred):\n",
        "    penalty = 100.\n",
        "    loss = tf.where(tf.less(y_true * y_pred, 0), \\\n",
        "                     penalty * tf.square(y_true - y_pred), \\\n",
        "                     tf.square(y_true - y_pred))\n",
        "\n",
        "    return tf.reduce_mean(loss, axis=-1)\n",
        "\n",
        "keras.losses.sign_penalty = sign_penalty  # enable use of loss with keras\n",
        "print(keras.losses.sign_penalty)"
      ],
      "execution_count": 112,
      "outputs": [
        {
          "output_type": "stream",
          "text": [
            "<function sign_penalty at 0x7faefe793a70>\n"
          ],
          "name": "stdout"
        }
      ]
    },
    {
      "cell_type": "markdown",
      "metadata": {
        "id": "QkQUVo01iPR2"
      },
      "source": [
        "Let us test this new custom loss function now"
      ]
    },
    {
      "cell_type": "code",
      "metadata": {
        "colab": {
          "base_uri": "https://localhost:8080/",
          "height": 1000
        },
        "id": "VzGG9NyfiSeu",
        "outputId": "df76100e-58bc-4d44-f201-d2613d806d08"
      },
      "source": [
        "# Create the model\n",
        "model_2 = Sequential()\n",
        "model_2.add(Dense(100, input_dim= scaled_train_features.shape[1], activation='relu'))\n",
        "model_2.add(Dense(20, activation='relu'))\n",
        "model_2.add(Dense(1, activation='linear'))\n",
        "\n",
        "# Fit the model with our custom 'sign_penalty' loss function\n",
        "model_2.compile(optimizer='adam', loss='sign_penalty')\n",
        "history = model_2.fit(scaled_train_features, train_targets, epochs=25)\n",
        "plt.plot(history.history['loss'])\n",
        "plt.title('loss:' + str(round(history.history['loss'][-1], 6)))\n",
        "plt.show()"
      ],
      "execution_count": 113,
      "outputs": [
        {
          "output_type": "stream",
          "text": [
            "Epoch 1/25\n",
            "28/28 [==============================] - 1s 2ms/step - loss: 20.0100\n",
            "Epoch 2/25\n",
            "28/28 [==============================] - 0s 2ms/step - loss: 0.9698\n",
            "Epoch 3/25\n",
            "28/28 [==============================] - 0s 1ms/step - loss: 0.3742\n",
            "Epoch 4/25\n",
            "28/28 [==============================] - 0s 2ms/step - loss: 0.3384\n",
            "Epoch 5/25\n",
            "28/28 [==============================] - 0s 1ms/step - loss: 0.2516\n",
            "Epoch 6/25\n",
            "28/28 [==============================] - 0s 1ms/step - loss: 0.2265\n",
            "Epoch 7/25\n",
            "28/28 [==============================] - 0s 2ms/step - loss: 0.2059\n",
            "Epoch 8/25\n",
            "28/28 [==============================] - 0s 1ms/step - loss: 0.1629\n",
            "Epoch 9/25\n",
            "28/28 [==============================] - 0s 2ms/step - loss: 0.1372\n",
            "Epoch 10/25\n",
            "28/28 [==============================] - 0s 2ms/step - loss: 0.1275\n",
            "Epoch 11/25\n",
            "28/28 [==============================] - 0s 2ms/step - loss: 0.1410\n",
            "Epoch 12/25\n",
            "28/28 [==============================] - 0s 1ms/step - loss: 0.1136\n",
            "Epoch 13/25\n",
            "28/28 [==============================] - 0s 1ms/step - loss: 0.1027\n",
            "Epoch 14/25\n",
            "28/28 [==============================] - 0s 2ms/step - loss: 0.0964\n",
            "Epoch 15/25\n",
            "28/28 [==============================] - 0s 2ms/step - loss: 0.0725\n",
            "Epoch 16/25\n",
            "28/28 [==============================] - 0s 1ms/step - loss: 0.0787\n",
            "Epoch 17/25\n",
            "28/28 [==============================] - 0s 2ms/step - loss: 0.0814\n",
            "Epoch 18/25\n",
            "28/28 [==============================] - 0s 2ms/step - loss: 0.0939\n",
            "Epoch 19/25\n",
            "28/28 [==============================] - 0s 2ms/step - loss: 0.0841\n",
            "Epoch 20/25\n",
            "28/28 [==============================] - 0s 2ms/step - loss: 0.0724\n",
            "Epoch 21/25\n",
            "28/28 [==============================] - 0s 1ms/step - loss: 0.0997\n",
            "Epoch 22/25\n",
            "28/28 [==============================] - 0s 1ms/step - loss: 0.0761\n",
            "Epoch 23/25\n",
            "28/28 [==============================] - 0s 2ms/step - loss: 0.0732\n",
            "Epoch 24/25\n",
            "28/28 [==============================] - 0s 2ms/step - loss: 0.0761\n",
            "Epoch 25/25\n",
            "28/28 [==============================] - 0s 2ms/step - loss: 0.0710\n"
          ],
          "name": "stdout"
        },
        {
          "output_type": "display_data",
          "data": {
            "image/png": "[encoded data removed]",
            "text/plain": [
              "<Figure size 432x288 with 1 Axes>"
            ]
          },
          "metadata": {
            "tags": [],
            "needs_background": "light"
          }
        }
      ]
    },
    {
      "cell_type": "code",
      "metadata": {
        "id": "E7Z_-eWzifot"
      },
      "source": [
        "#Let us see how well it performed"
      ],
      "execution_count": 114,
      "outputs": []
    },
    {
      "cell_type": "code",
      "metadata": {
        "colab": {
          "base_uri": "https://localhost:8080/",
          "height": 299
        },
        "id": "YdA514HmihZF",
        "outputId": "422186ad-36cf-42ee-f0e9-6e88a2660aba"
      },
      "source": [
        "# Evaluate R^2 scores\n",
        "train_preds = model_2.predict(scaled_train_features)\n",
        "test_preds = model_2.predict(scaled_test_features)\n",
        "print(r2_score(train_targets, train_preds))\n",
        "print(r2_score(test_targets, test_preds))\n",
        "\n",
        "# Scatter the predictions vs actual -- this one is interesting!\n",
        "plt.scatter(train_preds, train_targets, label='train')\n",
        "plt.scatter(test_preds, test_targets, label='test')  # plot test set\n",
        "plt.legend(); plt.show()"
      ],
      "execution_count": 115,
      "outputs": [
        {
          "output_type": "stream",
          "text": [
            "0.12145294830801334\n",
            "-0.6621824794589835\n"
          ],
          "name": "stdout"
        },
        {
          "output_type": "display_data",
          "data": {
            "image/png": "[encoded data removed]",
            "text/plain": [
              "<Figure size 432x288 with 1 Axes>"
            ]
          },
          "metadata": {
            "tags": [],
            "needs_background": "light"
          }
        }
      ]
    },
    {
      "cell_type": "markdown",
      "metadata": {
        "id": "ip_8KvR1imdV"
      },
      "source": [
        "^ We observe a bow-tie shape as direction of actual vs predicted is the same."
      ]
    },
    {
      "cell_type": "markdown",
      "metadata": {
        "id": "ZDiovksLLqIv"
      },
      "source": [
        "To prevent overfitting, let us use dropout and ensembling"
      ]
    },
    {
      "cell_type": "code",
      "metadata": {
        "id": "SlCu6ztWMO5g",
        "colab": {
          "base_uri": "https://localhost:8080/",
          "height": 1000
        },
        "outputId": "81fbf96e-2d19-4b83-f949-94b324fa5433"
      },
      "source": [
        "from keras.layers import Dropout\n",
        "\n",
        "# Create model with dropout\n",
        "model_3 = Sequential()\n",
        "model_3.add(Dense(100, input_dim=scaled_train_features.shape[1], activation='relu'))\n",
        "model_3.add(Dropout(0.2))\n",
        "model_3.add(Dense(20, activation='relu'))\n",
        "model_3.add(Dense(1, activation='linear'))\n",
        "\n",
        "# Fit model with mean squared error loss function\n",
        "model_3.compile(optimizer='adam', loss='mse')\n",
        "history = model_3.fit(scaled_train_features, train_targets, epochs=25)\n",
        "plt.plot(history.history['loss'])\n",
        "plt.title('loss:' + str(round(history.history['loss'][-1], 6)))\n",
        "plt.show()"
      ],
      "execution_count": 116,
      "outputs": [
        {
          "output_type": "stream",
          "text": [
            "Epoch 1/25\n",
            "28/28 [==============================] - 1s 2ms/step - loss: 0.0215\n",
            "Epoch 2/25\n",
            "28/28 [==============================] - 0s 1ms/step - loss: 0.0129\n",
            "Epoch 3/25\n",
            "28/28 [==============================] - 0s 2ms/step - loss: 0.0141\n",
            "Epoch 4/25\n",
            "28/28 [==============================] - 0s 1ms/step - loss: 0.0053\n",
            "Epoch 5/25\n",
            "28/28 [==============================] - 0s 1ms/step - loss: 0.0043\n",
            "Epoch 6/25\n",
            "28/28 [==============================] - 0s 2ms/step - loss: 0.0043\n",
            "Epoch 7/25\n",
            "28/28 [==============================] - 0s 2ms/step - loss: 0.0042\n",
            "Epoch 8/25\n",
            "28/28 [==============================] - 0s 2ms/step - loss: 0.0040\n",
            "Epoch 9/25\n",
            "28/28 [==============================] - 0s 2ms/step - loss: 0.0039\n",
            "Epoch 10/25\n",
            "28/28 [==============================] - 0s 2ms/step - loss: 0.0043\n",
            "Epoch 11/25\n",
            "28/28 [==============================] - 0s 1ms/step - loss: 0.0031\n",
            "Epoch 12/25\n",
            "28/28 [==============================] - 0s 2ms/step - loss: 0.0030\n",
            "Epoch 13/25\n",
            "28/28 [==============================] - 0s 1ms/step - loss: 0.0035\n",
            "Epoch 14/25\n",
            "28/28 [==============================] - 0s 2ms/step - loss: 0.0023\n",
            "Epoch 15/25\n",
            "28/28 [==============================] - 0s 2ms/step - loss: 0.0027\n",
            "Epoch 16/25\n",
            "28/28 [==============================] - 0s 1ms/step - loss: 0.0026\n",
            "Epoch 17/25\n",
            "28/28 [==============================] - 0s 2ms/step - loss: 0.0026\n",
            "Epoch 18/25\n",
            "28/28 [==============================] - 0s 2ms/step - loss: 0.0022\n",
            "Epoch 19/25\n",
            "28/28 [==============================] - 0s 1ms/step - loss: 0.0024\n",
            "Epoch 20/25\n",
            "28/28 [==============================] - 0s 2ms/step - loss: 0.0024\n",
            "Epoch 21/25\n",
            "28/28 [==============================] - 0s 2ms/step - loss: 0.0021\n",
            "Epoch 22/25\n",
            "28/28 [==============================] - 0s 2ms/step - loss: 0.0020\n",
            "Epoch 23/25\n",
            "28/28 [==============================] - 0s 2ms/step - loss: 0.0018\n",
            "Epoch 24/25\n",
            "28/28 [==============================] - 0s 2ms/step - loss: 0.0019\n",
            "Epoch 25/25\n",
            "28/28 [==============================] - 0s 2ms/step - loss: 0.0024\n"
          ],
          "name": "stdout"
        },
        {
          "output_type": "display_data",
          "data": {
            "image/png": "[encoded data removed]",
            "text/plain": [
              "<Figure size 432x288 with 1 Axes>"
            ]
          },
          "metadata": {
            "tags": [],
            "needs_background": "light"
          }
        }
      ]
    },
    {
      "cell_type": "markdown",
      "metadata": {
        "id": "kUeZW_tbMo8t"
      },
      "source": [
        "To ensemble our neural net predictions, we'll make predictions with the 3 models we just created -- the basic model, the model with the custom loss function, and the model with dropout. \n",
        "Then we'll combine the predictions with numpy's .hstack() function, and average them across rows with np.mean(predictions, axis=1)"
      ]
    },
    {
      "cell_type": "code",
      "metadata": {
        "id": "73KPQ1OsNVbS",
        "colab": {
          "base_uri": "https://localhost:8080/"
        },
        "outputId": "d81f7843-71e2-424a-a321-01227025966a"
      },
      "source": [
        "# Make predictions from the 3 neural net models\n",
        "train_pred1 = model_1.predict(scaled_train_features)\n",
        "test_pred1 = model_1.predict(scaled_test_features)\n",
        "\n",
        "train_pred2 = model_2.predict(scaled_train_features)\n",
        "test_pred2 = model_2.predict(scaled_test_features)\n",
        "\n",
        "train_pred3 = model_3.predict(scaled_train_features)\n",
        "test_pred3 = model_3.predict(scaled_test_features)\n",
        "\n",
        "# Horizontally stack predictions and take the average across rows\n",
        "train_preds = np.mean(np.hstack((train_pred1, train_pred2, train_pred3)), axis=1) #axis = 1 is for np.mean to take mean of rows not column wise\n",
        "test_preds = np.mean(np.hstack((test_pred1, test_pred2, test_pred3)), axis=1)\n",
        "print(test_preds[-5:])              #So start from bottom, see last 5 rows"
      ],
      "execution_count": 117,
      "outputs": [
        {
          "output_type": "stream",
          "text": [
            "[-0.05524711 -0.03440658 -0.01517052 -0.00460727 -0.03085421]\n"
          ],
          "name": "stdout"
        }
      ]
    },
    {
      "cell_type": "code",
      "metadata": {
        "colab": {
          "base_uri": "https://localhost:8080/",
          "height": 299
        },
        "id": "s_vKaMwOOJOh",
        "outputId": "88a8a2d5-f01d-4ff0-c46f-82da28301c8e"
      },
      "source": [
        "from sklearn.metrics import r2_score\n",
        "\n",
        "# Evaluate the R^2 scores\n",
        "print(r2_score(train_targets, train_preds))\n",
        "print(r2_score(test_targets, test_preds))\n",
        "\n",
        "# Scatter the predictions vs actual -- this one is interesting!\n",
        "plt.scatter(train_preds, train_targets, label='train') #train predictions vs train actual\n",
        "plt.scatter(test_preds, test_targets, label='test')\n",
        "plt.legend(); plt.show()"
      ],
      "execution_count": 118,
      "outputs": [
        {
          "output_type": "stream",
          "text": [
            "0.17951811374753213\n",
            "-0.7597081196110855\n"
          ],
          "name": "stdout"
        },
        {
          "output_type": "display_data",
          "data": {
            "image/png": "[encoded data removed]",
            "text/plain": [
              "<Figure size 432x288 with 1 Axes>"
            ]
          },
          "metadata": {
            "tags": [],
            "needs_background": "light"
          }
        }
      ]
    },
    {
      "cell_type": "markdown",
      "metadata": {
        "id": "-lz48195CAL8"
      },
      "source": [
        "Plotting the efficient frontier of MPT"
      ]
    },
    {
      "cell_type": "markdown",
      "metadata": {
        "id": "Tb5Xik-r9bAD"
      },
      "source": [
        "Our first step towards calculating modern portfolio theory (MPT) portfolios is to get daily and monthly returns. Eventually we're going to get the best portfolios of each month based on the Sharpe ratio. The easiest way to do this is to put all our stock prices into one DataFrame, then to resample them to the daily and monthly time frames. We need daily price changes to calculate volatility, which we will use as our measure of risk."
      ]
    },
    {
      "cell_type": "markdown",
      "metadata": {
        "id": "Sho66arj-C8T"
      },
      "source": [
        "#STEP 1\n",
        "Join together lng_df, spy_df, and smlv_df using pd.concat() into the full_df DataFrame.\n",
        "Resample the full_df to Business Month Start ('BMS') frequency.\n",
        "Get the daily percent change of full_df with .pct_change()"
      ]
    },
    {
      "cell_type": "code",
      "metadata": {
        "colab": {
          "base_uri": "https://localhost:8080/"
        },
        "id": "gIKbc7eA9xhT",
        "outputId": "eb8f950d-e229-4c16-ace7-3b7ae45b2c6f"
      },
      "source": [
        "# Join 3 stock DataFrame together\n",
        "lng_df = lng_df['Adj Close']\n",
        "spy_df = spy_df['Adj Close']\n",
        "amd_df = amd_df['Adj Close']\n",
        "\n",
        "lng_df = lng_df.rename({'Adj Close': 'lng'})\n",
        "spy_df = spy_df.rename({'Adj Close': 'spy'})\n",
        "amd_df = amd_df.rename({'Adj Close': 'amd'})\n",
        "\n",
        "full_df = pd.concat([lng_df, spy_df, amd_df], axis=1).dropna()\n",
        "print(full_df)\n",
        "# Resample the full DataFrame to monthly timeframe\n",
        "monthly_df = full_df.resample('BMS').first()\n",
        "\n",
        "# Calculate daily returns of stocks\n",
        "returns_daily = full_df.pct_change()\n",
        "\n",
        "# Calculate monthly returns of the stocks\n",
        "returns_monthly = monthly_df.pct_change().dropna()\n",
        "print(returns_monthly.tail())"
      ],
      "execution_count": 119,
      "outputs": [
        {
          "output_type": "stream",
          "text": [
            "            Adj Close   Adj Close  Adj Close\n",
            "Date                                        \n",
            "2017-04-27  45.400002  221.523102  13.620000\n",
            "2017-04-28  45.349998  221.040314  13.300000\n",
            "2017-05-01  45.619999  221.597382  13.620000\n",
            "2017-05-02  46.160000  221.680954  10.320000\n",
            "2017-05-03  45.660000  221.411713  10.390000\n",
            "...               ...         ...        ...\n",
            "2021-06-18  83.250000  414.920013  84.650002\n",
            "2021-06-21  85.239998  420.859985  82.589996\n",
            "2021-06-22  86.830002  423.109985  83.580002\n",
            "2021-06-23  87.519997  422.600006  83.820000\n",
            "2021-06-24  87.500000  425.100006  86.099998\n",
            "\n",
            "[1048 rows x 3 columns]\n",
            "            Adj Close  Adj Close  Adj Close\n",
            "Date                                       \n",
            "2021-02-01   0.073502   0.020174  -0.050271\n",
            "2021-03-01   0.079538   0.035484  -0.014488\n",
            "2021-04-01   0.051707   0.031680  -0.061350\n",
            "2021-05-03   0.097493   0.043908  -0.031323\n",
            "2021-06-01   0.082741   0.003515   0.028771\n"
          ],
          "name": "stdout"
        }
      ]
    },
    {
      "cell_type": "markdown",
      "metadata": {
        "id": "78kQy7gk-Qwr"
      },
      "source": [
        "We'll now loop through each month in the returns_monthly DataFrame, and calculate the covariance of the daily returns."
      ]
    },
    {
      "cell_type": "code",
      "metadata": {
        "id": "HXQxVLTm-wn1",
        "colab": {
          "base_uri": "https://localhost:8080/"
        },
        "outputId": "ec6084ae-3c5e-4f2c-e0ce-eddec0642ca6"
      },
      "source": [
        "# Daily covariance of stocks (for each monthly period)\n",
        "covariances = {}\n",
        "rtd_idx = returns_daily.index\n",
        "for i in returns_monthly.index:\n",
        "    # Mask daily returns for each month and year, and calculate covariance\n",
        "    mask = (rtd_idx.month == i.month) & (rtd_idx.year == i.year)\n",
        "    \n",
        "    # Use the mask to get daily returns for the current month and year of monthy returns index\n",
        "    covariances[i] = returns_daily[mask].cov()\n",
        "\n",
        "print(covariances[i])"
      ],
      "execution_count": 120,
      "outputs": [
        {
          "output_type": "stream",
          "text": [
            "           Adj Close  Adj Close  Adj Close\n",
            "Adj Close   0.000227   0.000062  -0.000095\n",
            "Adj Close   0.000062   0.000042   0.000011\n",
            "Adj Close  -0.000095   0.000011   0.000354\n"
          ],
          "name": "stdout"
        }
      ]
    },
    {
      "cell_type": "markdown",
      "metadata": {
        "id": "5o1Q7i9d_i8D"
      },
      "source": [
        "We'll now generate portfolios to find each month's best one. numpy's random.random() generates random numbers from a uniform distribution, then we normalize them so they sum to 1 using the /= operator. We use these weights to calculate returns and volatility. Returns are sums of weights times individual returns. Volatility is more complex, and involves the covariances of the different stocks.\n",
        "\n",
        "Finally we'll store the values in dictionaries for later use, with months' dates as keys.\n",
        "\n",
        "In this case, we will only generate 10 portfolios for each date so the code will run faster, but in a real-world use-case you'd want to use more like 1000 to 5000 randomly-generated portfolios for a few stocks."
      ]
    },
    {
      "cell_type": "code",
      "metadata": {
        "id": "sPApnAAi_zIb",
        "colab": {
          "base_uri": "https://localhost:8080/"
        },
        "outputId": "61fb0823-5ea4-4f8e-88e0-455f6bf7c2a9"
      },
      "source": [
        "portfolio_returns, portfolio_volatility, portfolio_weights = {}, {}, {}\n",
        "\n",
        "# Get portfolio performances at each month\n",
        "for date in sorted(covariances.keys()):\n",
        "    cov = covariances[date]\n",
        "    for portfolio in range(10):\n",
        "        weights = np.random.random(3)\n",
        "        weights /= np.sum(weights) # /= divides weights by their sum to normalize \n",
        "        returns = np.dot(weights, returns_monthly.loc[date])\n",
        "        volatility = np.sqrt(np.dot(weights.T, np.dot(cov, weights)))\n",
        "        portfolio_returns.setdefault(date, []).append(returns)\n",
        "        portfolio_volatility.setdefault(date, []).append(volatility)\n",
        "        portfolio_weights.setdefault(date, []).append(weights)\n",
        "\n",
        "print(portfolio_weights[date][0])"
      ],
      "execution_count": 121,
      "outputs": [
        {
          "output_type": "stream",
          "text": [
            "[0.43177887 0.42581292 0.1424082 ]\n"
          ],
          "name": "stdout"
        }
      ]
    },
    {
      "cell_type": "code",
      "metadata": {
        "id": "ShbN6oD6APMZ",
        "colab": {
          "base_uri": "https://localhost:8080/",
          "height": 279
        },
        "outputId": "6814c9d1-597c-4041-9add-cda747c24f51"
      },
      "source": [
        "# Get latest date of available data\n",
        "date = sorted(covariances.keys())[-1]  \n",
        "\n",
        "# Plot efficient frontier\n",
        "# warning: this can take at least 10s for the plot to execute...\n",
        "plt.scatter(x=portfolio_volatility[date], y=portfolio_returns[date], alpha=0.1)\n",
        "plt.xlabel('Volatility')\n",
        "plt.ylabel('Returns')\n",
        "plt.show()"
      ],
      "execution_count": 122,
      "outputs": [
        {
          "output_type": "display_data",
          "data": {
            "image/png": "[encoded data removed]",
            "text/plain": [
              "<Figure size 432x288 with 1 Axes>"
            ]
          },
          "metadata": {
            "tags": [],
            "needs_background": "light"
          }
        }
      ]
    },
    {
      "cell_type": "markdown",
      "metadata": {
        "id": "jejcNn24BTDO"
      },
      "source": [
        "Get best Sharpe ratios\n",
        "We need to find the \"ideal\" portfolios for each date so we can use them as targets for machine learning. We'll loop through each date in portfolio_returns, then loop through the portfolios we generated with portfolio_returns[date]. We'll then calculate the Sharpe ratio, which is the return divided by volatility (assuming a no-risk return of 0).\n",
        "\n",
        "We use enumerate() to loop through the returns for the current date (portfolio_returns[date]) and keep track of the index with i. Then we use the current date and current index to get the volatility of each portfolio with portfolio_volatility[date][i]. Finally, we get the index of the best Sharpe ratio for each date using np.argmax(). We'll use this index to get the ideal portfolio weights soon."
      ]
    },
    {
      "cell_type": "code",
      "metadata": {
        "id": "3CR7fW07BWIf",
        "colab": {
          "base_uri": "https://localhost:8080/"
        },
        "outputId": "f809a14a-ae54-4ad2-a0ea-8df1bdb2444c"
      },
      "source": [
        "# Empty dictionaries for sharpe ratios and best sharpe indexes by date\n",
        "sharpe_ratio, max_sharpe_idxs = {}, {}\n",
        "\n",
        "# Loop through dates and get sharpe ratio for each portfolio\n",
        "for date in portfolio_returns.keys():\n",
        "    for i, ret in enumerate(portfolio_returns[date]):\n",
        "    \n",
        "        # Divide returns by the volatility for the date and index, i\n",
        "        sharpe_ratio.setdefault(date, []).append(ret / portfolio_volatility[date][i])\n",
        "\n",
        "    # Get the index of the best sharpe ratio for each date\n",
        "    max_sharpe_idxs[date] = np.argmax(sharpe_ratio[date])\n",
        "\n",
        "print(portfolio_returns[date][max_sharpe_idxs[date]])"
      ],
      "execution_count": 123,
      "outputs": [
        {
          "output_type": "stream",
          "text": [
            "0.0579079501416932\n"
          ],
          "name": "stdout"
        }
      ]
    },
    {
      "cell_type": "code",
      "metadata": {
        "id": "7dymh1jNBcwz",
        "colab": {
          "base_uri": "https://localhost:8080/"
        },
        "outputId": "5cafb275-9a16-4702-91c0-3c65dc05724c"
      },
      "source": [
        "# Calculate exponentially-weighted moving average of daily returns\n",
        "ewma_daily = returns_daily.ewm(span=30).mean()\n",
        "\n",
        "# Resample daily returns to first business day of the month with the first day for that month\n",
        "ewma_monthly = ewma_daily.resample('BMS').first()\n",
        "\n",
        "# Shift ewma for the month by 1 month forward so we can use it as a feature for future predictions \n",
        "ewma_monthly = ewma_monthly.shift(1).dropna()\n",
        "\n",
        "print(ewma_monthly.iloc[-1])"
      ],
      "execution_count": 124,
      "outputs": [
        {
          "output_type": "stream",
          "text": [
            "Adj Close    0.004586\n",
            "Adj Close    0.001598\n",
            "Adj Close   -0.002243\n",
            "Name: 2021-06-01 00:00:00, dtype: float64\n"
          ],
          "name": "stdout"
        }
      ]
    },
    {
      "cell_type": "code",
      "metadata": {
        "id": "6t6eIQ1dBgTG",
        "colab": {
          "base_uri": "https://localhost:8080/"
        },
        "outputId": "c2c5729b-e1ba-4112-ccfa-e39615ea0483"
      },
      "source": [
        "targets, features = [], []\n",
        "\n",
        "# Create features from price history and targets as ideal portfolio\n",
        "for date, ewma in ewma_monthly.iterrows():\n",
        "\n",
        "    # Get the index of the best sharpe ratio\n",
        "    best_idx = max_sharpe_idxs[date]\n",
        "    targets.append(portfolio_weights[date][best_idx])\n",
        "    features.append(ewma)  # add ewma to features\n",
        "\n",
        "targets = np.array(targets)\n",
        "features = np.array(features)\n",
        "print(targets[-5:])"
      ],
      "execution_count": 125,
      "outputs": [
        {
          "output_type": "stream",
          "text": [
            "[[0.42984523 0.4132995  0.15685528]\n",
            " [0.87497383 0.11010292 0.01492325]\n",
            " [0.91252581 0.07194231 0.01553188]\n",
            " [0.52955716 0.4252148  0.04522803]\n",
            " [0.62287452 0.17737291 0.19975257]]\n"
          ],
          "name": "stdout"
        }
      ]
    },
    {
      "cell_type": "code",
      "metadata": {
        "id": "7eyErqtBBk8l",
        "colab": {
          "base_uri": "https://localhost:8080/",
          "height": 279
        },
        "outputId": "3714c0b4-f94c-435e-d649-b7abff2faa23"
      },
      "source": [
        "# Get most recent (current) returns and volatility\n",
        "date = sorted(covariances.keys())[-1]\n",
        "cur_returns = portfolio_returns[date]\n",
        "cur_volatility = portfolio_volatility[date]\n",
        "\n",
        "# Plot efficient frontier with sharpe as point\n",
        "plt.scatter(x=cur_volatility, y=cur_returns, alpha=0.1, color='blue')\n",
        "best_idx = max_sharpe_idxs[date]\n",
        "\n",
        "# Place an orange \"X\" on the point with the best Sharpe ratio\n",
        "plt.scatter(x=cur_volatility[best_idx], y=cur_returns[best_idx], marker='x', color='orange')\n",
        "plt.xlabel('Volatility')\n",
        "plt.ylabel('Returns')\n",
        "plt.show()"
      ],
      "execution_count": 126,
      "outputs": [
        {
          "output_type": "display_data",
          "data": {
            "image/png": "[encoded data removed]",
            "text/plain": [
              "<Figure size 432x288 with 1 Axes>"
            ]
          },
          "metadata": {
            "tags": [],
            "needs_background": "light"
          }
        }
      ]
    },
    {
      "cell_type": "markdown",
      "metadata": {
        "id": "eUhPLKaDCv_8"
      },
      "source": [
        "Make predictions with a random forest"
      ]
    },
    {
      "cell_type": "code",
      "metadata": {
        "id": "nXRFwIHgCys7",
        "colab": {
          "base_uri": "https://localhost:8080/"
        },
        "outputId": "090b1c1c-a2a1-45e8-fcdd-029022412ddb"
      },
      "source": [
        "# Make train and test features\n",
        "train_size = int(0.85 * features.shape[0])\n",
        "train_features = features[:train_size]\n",
        "test_features = features[train_size:]\n",
        "train_targets = targets[:train_size]\n",
        "test_targets = targets[train_size:]\n",
        "\n",
        "# Fit the model and check scores on train and test\n",
        "rfr = RandomForestRegressor(n_estimators=300, random_state=42)\n",
        "rfr.fit(train_features, train_targets)\n",
        "print(rfr.score(train_features, train_targets))\n",
        "print(rfr.score(test_features, test_targets))"
      ],
      "execution_count": 127,
      "outputs": [
        {
          "output_type": "stream",
          "text": [
            "0.81637174365712\n",
            "-1.9136599642588337\n"
          ],
          "name": "stdout"
        },
        {
          "output_type": "stream",
          "text": [
            "/usr/local/lib/python3.7/dist-packages/sklearn/base.py:434: FutureWarning: The default value of multioutput (not exposed in score method) will change from 'variance_weighted' to 'uniform_average' in 0.23 to keep consistent with 'metrics.r2_score'. To specify the default value manually and avoid the warning, please either call 'metrics.r2_score' directly or make a custom scorer with 'metrics.make_scorer' (the built-in scorer 'r2' uses multioutput='uniform_average').\n",
            "  \"multioutput='uniform_average').\", FutureWarning)\n",
            "/usr/local/lib/python3.7/dist-packages/sklearn/base.py:434: FutureWarning: The default value of multioutput (not exposed in score method) will change from 'variance_weighted' to 'uniform_average' in 0.23 to keep consistent with 'metrics.r2_score'. To specify the default value manually and avoid the warning, please either call 'metrics.r2_score' directly or make a custom scorer with 'metrics.make_scorer' (the built-in scorer 'r2' uses multioutput='uniform_average').\n",
            "  \"multioutput='uniform_average').\", FutureWarning)\n"
          ],
          "name": "stderr"
        }
      ]
    },
    {
      "cell_type": "code",
      "metadata": {
        "id": "cQEb66fOC4Pb",
        "colab": {
          "base_uri": "https://localhost:8080/",
          "height": 269
        },
        "outputId": "8d03aed2-d8cc-4c63-f176-288c0c4da2e5"
      },
      "source": [
        "# Get predictions from model on train and test\n",
        "train_predictions = rfr.predict(train_features)\n",
        "test_predictions = rfr.predict(test_features)\n",
        "\n",
        "# Calculate and plot returns from our RF predictions and the SPY returns\n",
        "test_returns = np.sum(returns_monthly.iloc[train_size:] * test_predictions, axis=1)\n",
        "plt.plot(test_returns, label='algo')\n",
        "#plt.plot(returns_monthly['spy'].iloc[train_size:], label='SPY')          #Commenting it out as spy is somehow not being read and giving error\n",
        "                                                                          #although it is very important to have spy plotted, otherwise what will we compare it with\n",
        "plt.legend()\n",
        "plt.show()"
      ],
      "execution_count": 133,
      "outputs": [
        {
          "output_type": "display_data",
          "data": {
            "image/png": "[encoded data removed]",
            "text/plain": [
              "<Figure size 432x288 with 1 Axes>"
            ]
          },
          "metadata": {
            "tags": [],
            "needs_background": "light"
          }
        }
      ]
    },
    {
      "cell_type": "markdown",
      "metadata": {
        "id": "_f7Sdc5NC8P7"
      },
      "source": [
        "Evaluate returns\n",
        "Let's now see how our portfolio selection would perform as compared with just investing in the SPY. We'll do this to see if our predictions are promising, despite the low R value.\n",
        "\n",
        "We will set a starting value for our investment of $1000, then loop through the returns from our predictions as well as from SPY. We'll use the monthly returns from our portfolio selection and SPY and apply them to our starting cash balance. From this we will get a month-by-month picture of how our investment is doing, and we can see how our predictions did overall vs the SPY. Next, we can plot our portfolio from our predictions and compare it to SPY."
      ]
    },
    {
      "cell_type": "code",
      "metadata": {
        "id": "LBfmozNrC_sT",
        "colab": {
          "base_uri": "https://localhost:8080/",
          "height": 527
        },
        "outputId": "6657ebfe-aebe-4c49-8c93-a78181db58ba"
      },
      "source": [
        "# Calculate the effect of our portfolio selection on a hypothetical $1k investment\n",
        "cash = 1000\n",
        "algo_cash, spy_cash = [cash], [cash]  # set equal starting cash amounts\n",
        "for r in test_returns:\n",
        "    cash *= 1 + r\n",
        "    algo_cash.append(cash)\n",
        "\n",
        "# Calculate performance for SPY\n",
        "cash = 1000  # reset cash amount\n",
        "for r in returns_monthly['spy'].iloc[train_size:]:           #hence the same error here because of before\n",
        "    cash *= 1 + r\n",
        "    spy_cash.append(cash)\n",
        "\n",
        "print('algo returns:', (algo_cash[-1] - algo_cash[0]) / algo_cash[0])\n",
        "print('SPY returns:', (spy_cash[-1] - spy_cash[0]) / spy_cash[0])"
      ],
      "execution_count": 131,
      "outputs": [
        {
          "output_type": "error",
          "ename": "KeyError",
          "evalue": "ignored",
          "traceback": [
            "\u001b[0;31m---------------------------------------------------------------------------\u001b[0m",
            "\u001b[0;31mKeyError\u001b[0m                                  Traceback (most recent call last)",
            "\u001b[0;32m/usr/local/lib/python3.7/dist-packages/pandas/core/indexes/base.py\u001b[0m in \u001b[0;36mget_loc\u001b[0;34m(self, key, method, tolerance)\u001b[0m\n\u001b[1;32m   2897\u001b[0m             \u001b[0;32mtry\u001b[0m\u001b[0;34m:\u001b[0m\u001b[0;34m\u001b[0m\u001b[0;34m\u001b[0m\u001b[0m\n\u001b[0;32m-> 2898\u001b[0;31m                 \u001b[0;32mreturn\u001b[0m \u001b[0mself\u001b[0m\u001b[0;34m.\u001b[0m\u001b[0m_engine\u001b[0m\u001b[0;34m.\u001b[0m\u001b[0mget_loc\u001b[0m\u001b[0;34m(\u001b[0m\u001b[0mcasted_key\u001b[0m\u001b[0;34m)\u001b[0m\u001b[0;34m\u001b[0m\u001b[0;34m\u001b[0m\u001b[0m\n\u001b[0m\u001b[1;32m   2899\u001b[0m             \u001b[0;32mexcept\u001b[0m \u001b[0mKeyError\u001b[0m \u001b[0;32mas\u001b[0m \u001b[0merr\u001b[0m\u001b[0;34m:\u001b[0m\u001b[0;34m\u001b[0m\u001b[0;34m\u001b[0m\u001b[0m\n",
            "\u001b[0;32mpandas/_libs/index.pyx\u001b[0m in \u001b[0;36mpandas._libs.index.IndexEngine.get_loc\u001b[0;34m()\u001b[0m\n",
            "\u001b[0;32mpandas/_libs/index.pyx\u001b[0m in \u001b[0;36mpandas._libs.index.IndexEngine.get_loc\u001b[0;34m()\u001b[0m\n",
            "\u001b[0;32mpandas/_libs/index.pyx\u001b[0m in \u001b[0;36mpandas._libs.index.IndexEngine._get_loc_duplicates\u001b[0;34m()\u001b[0m\n",
            "\u001b[0;31mKeyError\u001b[0m: 'spy'",
            "\nThe above exception was the direct cause of the following exception:\n",
            "\u001b[0;31mKeyError\u001b[0m                                  Traceback (most recent call last)",
            "\u001b[0;32m<ipython-input-131-5b303cc30b7e>\u001b[0m in \u001b[0;36m<module>\u001b[0;34m()\u001b[0m\n\u001b[1;32m      8\u001b[0m \u001b[0;31m# Calculate performance for SPY\u001b[0m\u001b[0;34m\u001b[0m\u001b[0;34m\u001b[0m\u001b[0;34m\u001b[0m\u001b[0m\n\u001b[1;32m      9\u001b[0m \u001b[0mcash\u001b[0m \u001b[0;34m=\u001b[0m \u001b[0;36m1000\u001b[0m  \u001b[0;31m# reset cash amount\u001b[0m\u001b[0;34m\u001b[0m\u001b[0;34m\u001b[0m\u001b[0m\n\u001b[0;32m---> 10\u001b[0;31m \u001b[0;32mfor\u001b[0m \u001b[0mr\u001b[0m \u001b[0;32min\u001b[0m \u001b[0mreturns_monthly\u001b[0m\u001b[0;34m[\u001b[0m\u001b[0;34m'spy'\u001b[0m\u001b[0;34m]\u001b[0m\u001b[0;34m.\u001b[0m\u001b[0miloc\u001b[0m\u001b[0;34m[\u001b[0m\u001b[0mtrain_size\u001b[0m\u001b[0;34m:\u001b[0m\u001b[0;34m]\u001b[0m\u001b[0;34m:\u001b[0m\u001b[0;34m\u001b[0m\u001b[0;34m\u001b[0m\u001b[0m\n\u001b[0m\u001b[1;32m     11\u001b[0m     \u001b[0mcash\u001b[0m \u001b[0;34m*=\u001b[0m \u001b[0;36m1\u001b[0m \u001b[0;34m+\u001b[0m \u001b[0mr\u001b[0m\u001b[0;34m\u001b[0m\u001b[0;34m\u001b[0m\u001b[0m\n\u001b[1;32m     12\u001b[0m     \u001b[0mspy_cash\u001b[0m\u001b[0;34m.\u001b[0m\u001b[0mappend\u001b[0m\u001b[0;34m(\u001b[0m\u001b[0mcash\u001b[0m\u001b[0;34m)\u001b[0m\u001b[0;34m\u001b[0m\u001b[0;34m\u001b[0m\u001b[0m\n",
            "\u001b[0;32m/usr/local/lib/python3.7/dist-packages/pandas/core/frame.py\u001b[0m in \u001b[0;36m__getitem__\u001b[0;34m(self, key)\u001b[0m\n\u001b[1;32m   2904\u001b[0m             \u001b[0;32mif\u001b[0m \u001b[0mself\u001b[0m\u001b[0;34m.\u001b[0m\u001b[0mcolumns\u001b[0m\u001b[0;34m.\u001b[0m\u001b[0mnlevels\u001b[0m \u001b[0;34m>\u001b[0m \u001b[0;36m1\u001b[0m\u001b[0;34m:\u001b[0m\u001b[0;34m\u001b[0m\u001b[0;34m\u001b[0m\u001b[0m\n\u001b[1;32m   2905\u001b[0m                 \u001b[0;32mreturn\u001b[0m \u001b[0mself\u001b[0m\u001b[0;34m.\u001b[0m\u001b[0m_getitem_multilevel\u001b[0m\u001b[0;34m(\u001b[0m\u001b[0mkey\u001b[0m\u001b[0;34m)\u001b[0m\u001b[0;34m\u001b[0m\u001b[0;34m\u001b[0m\u001b[0m\n\u001b[0;32m-> 2906\u001b[0;31m             \u001b[0mindexer\u001b[0m \u001b[0;34m=\u001b[0m \u001b[0mself\u001b[0m\u001b[0;34m.\u001b[0m\u001b[0mcolumns\u001b[0m\u001b[0;34m.\u001b[0m\u001b[0mget_loc\u001b[0m\u001b[0;34m(\u001b[0m\u001b[0mkey\u001b[0m\u001b[0;34m)\u001b[0m\u001b[0;34m\u001b[0m\u001b[0;34m\u001b[0m\u001b[0m\n\u001b[0m\u001b[1;32m   2907\u001b[0m             \u001b[0;32mif\u001b[0m \u001b[0mis_integer\u001b[0m\u001b[0;34m(\u001b[0m\u001b[0mindexer\u001b[0m\u001b[0;34m)\u001b[0m\u001b[0;34m:\u001b[0m\u001b[0;34m\u001b[0m\u001b[0;34m\u001b[0m\u001b[0m\n\u001b[1;32m   2908\u001b[0m                 \u001b[0mindexer\u001b[0m \u001b[0;34m=\u001b[0m \u001b[0;34m[\u001b[0m\u001b[0mindexer\u001b[0m\u001b[0;34m]\u001b[0m\u001b[0;34m\u001b[0m\u001b[0;34m\u001b[0m\u001b[0m\n",
            "\u001b[0;32m/usr/local/lib/python3.7/dist-packages/pandas/core/indexes/base.py\u001b[0m in \u001b[0;36mget_loc\u001b[0;34m(self, key, method, tolerance)\u001b[0m\n\u001b[1;32m   2898\u001b[0m                 \u001b[0;32mreturn\u001b[0m \u001b[0mself\u001b[0m\u001b[0;34m.\u001b[0m\u001b[0m_engine\u001b[0m\u001b[0;34m.\u001b[0m\u001b[0mget_loc\u001b[0m\u001b[0;34m(\u001b[0m\u001b[0mcasted_key\u001b[0m\u001b[0;34m)\u001b[0m\u001b[0;34m\u001b[0m\u001b[0;34m\u001b[0m\u001b[0m\n\u001b[1;32m   2899\u001b[0m             \u001b[0;32mexcept\u001b[0m \u001b[0mKeyError\u001b[0m \u001b[0;32mas\u001b[0m \u001b[0merr\u001b[0m\u001b[0;34m:\u001b[0m\u001b[0;34m\u001b[0m\u001b[0;34m\u001b[0m\u001b[0m\n\u001b[0;32m-> 2900\u001b[0;31m                 \u001b[0;32mraise\u001b[0m \u001b[0mKeyError\u001b[0m\u001b[0;34m(\u001b[0m\u001b[0mkey\u001b[0m\u001b[0;34m)\u001b[0m \u001b[0;32mfrom\u001b[0m \u001b[0merr\u001b[0m\u001b[0;34m\u001b[0m\u001b[0;34m\u001b[0m\u001b[0m\n\u001b[0m\u001b[1;32m   2901\u001b[0m \u001b[0;34m\u001b[0m\u001b[0m\n\u001b[1;32m   2902\u001b[0m         \u001b[0;32mif\u001b[0m \u001b[0mtolerance\u001b[0m \u001b[0;32mis\u001b[0m \u001b[0;32mnot\u001b[0m \u001b[0;32mNone\u001b[0m\u001b[0;34m:\u001b[0m\u001b[0;34m\u001b[0m\u001b[0;34m\u001b[0m\u001b[0m\n",
            "\u001b[0;31mKeyError\u001b[0m: 'spy'"
          ]
        }
      ]
    },
    {
      "cell_type": "code",
      "metadata": {
        "id": "eMDaZAqeDJFr",
        "colab": {
          "base_uri": "https://localhost:8080/",
          "height": 265
        },
        "outputId": "4000e4f5-5baf-40a2-c856-8c5284184ecb"
      },
      "source": [
        "# Plot the algo_cash and spy_cash to compare overall returns\n",
        "plt.plot(algo_cash, label=\"algo\")\n",
        "plt.plot(spy_cash, label='SPY')\n",
        "plt.legend()  # show the legend\n",
        "plt.show()"
      ],
      "execution_count": 132,
      "outputs": [
        {
          "output_type": "display_data",
          "data": {
            "image/png": "[encoded data removed]",
            "text/plain": [
              "<Figure size 432x288 with 1 Axes>"
            ]
          },
          "metadata": {
            "tags": [],
            "needs_background": "light"
          }
        }
      ]
    }
  ]
}